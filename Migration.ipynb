{
 "cells": [
  {
   "cell_type": "markdown",
   "metadata": {},
   "source": [
    "# Migration - Local Area\n",
    "\n",
    "-----\n",
    "\n",
    "### Requirements\n",
    "\n",
    "\n",
    "\n",
    "#### Observations & Dimensions\n",
    "\n",
    "We're taking 5 tabs (see below table). The `observations` and the `indictor` will vary a little for each tab,\n",
    "\n",
    "|Tab name| Get obs from columns named | Set 'Indictor' dimension to |\n",
    "|---|---|---|\n",
    "| Short Term Migration Flow | Short-Term International Migration Inflow Estimates | Inflow Estimates\n",
    "| Non-UK Born Population | Non-UK Born Estimate | Not UK Born Population\n",
    "| Non British Population | Non-British Estimate |  Not British Population\n",
    "| NINo Registrations | Migrant NINo Registrations | NINo Registrations\n",
    "| GP Registrations | New Migrant GP Registrations | New Gp Registrations\n",
    "\n",
    "\n",
    "The required dimensions are:\n",
    "\n",
    "* **Geography** - use the area code column\n",
    "* **Time** - from the top and just the year, so \"Jan 2009 to Dec 2009\" == 2009\n",
    "* **Indictor** - as per above table\n",
    "\n",
    "-----\n",
    "    \n",
    "Notes:\n",
    "\n",
    "It's always worth getting the file out of /sources and having a look over."
   ]
  },
  {
   "cell_type": "code",
   "execution_count": 1,
   "metadata": {},
   "outputs": [],
   "source": [
    "new_indicators = {\"Short-Term Migration Inflows\": \"Inflow Estimates\",\n",
    "                  \"Non-UK Born Population\": \"Not UK Born Population\",\n",
    "                  \"Non-British Population\": \"Not British Population\",\n",
    "                  \"NINo Registrations\": \"NINo Registrations\",\n",
    "                  \"GP Registrations\": \"New GP registrations\"}"
   ]
  },
  {
   "cell_type": "code",
   "execution_count": 2,
   "metadata": {},
   "outputs": [
    {
     "output_type": "stream",
     "name": "stdout",
     "text": [
      "/workspace/mock-transformations\n"
     ]
    }
   ],
   "source": [
    "%cd mock-transformations/"
   ]
  },
  {
   "cell_type": "code",
   "execution_count": 3,
   "metadata": {},
   "outputs": [
    {
     "output_type": "stream",
     "name": "stdout",
     "text": [
      "Loading ./sources/lamisspreadsheet.xls which has size 1138688 bytes\n",
      "Table names: ['Notes', 'Migration Flows', 'Short-Term Migration Inflows', 'Non-UK Born Population', 'Non-British Population', 'NINo Registrations', 'GP Registrations', 'Births to Non-UK Born Mothers']\n"
     ]
    }
   ],
   "source": [
    "from databaker.framework import *\n",
    "import pandas as pd\n",
    "\n",
    "# the Seasonally Adjusted Tabs\n",
    "sa_tabs = loadxlstabs(\"./sources/lamisspreadsheet.xls\")"
   ]
  },
  {
   "cell_type": "code",
   "execution_count": 4,
   "metadata": {},
   "outputs": [
    {
     "output_type": "execute_result",
     "data": {
      "text/plain": [
       "{<Q1 'Mid-2015 to Mid-2016'>, <M1 'Mid-2013 to Mid-2014'>, <I1 'Mid-2011 to Mid-2012'>, <G1 'Mid-2010 to Mid-2011'>, <E1 'Mid-2009 to Mid-2010 '>, <S1 'Mid-2016 to Mid-2017'>, <O1 'Mid-2014 to Mid-2015'>, <K1 'Mid-2012 to Mid-2013'>, <C1 'Mid-2008 to Mid-2009 '>}"
      ]
     },
     "metadata": {},
     "execution_count": 4
    }
   ],
   "source": [
    "# This is the test I need to do to see how merged cells behave\n",
    "\n",
    "sa_tabs[2].excel_ref(\"C1\").expand(RIGHT).is_not_blank()\n",
    "\n",
    "# So it looks like this is a case of CLOSEST, ABOVE, and will need to substring after the fact in pandas\n",
    "# Turns out it's closest left"
   ]
  },
  {
   "cell_type": "code",
   "execution_count": 5,
   "metadata": {},
   "outputs": [],
   "source": [
    "work = []"
   ]
  },
  {
   "cell_type": "code",
   "execution_count": 6,
   "metadata": {
    "tags": []
   },
   "outputs": [
    {
     "output_type": "stream",
     "name": "stdout",
     "text": [
      "😍 Short-Term Migration Inflows\n",
      "\n",
      "🥰 Non-UK Born Population\n",
      "\n",
      "🥰 Non-British Population\n",
      "\n",
      "😍 NINo Registrations\n",
      "\n",
      "😍 GP Registrations\n",
      "\n"
     ]
    }
   ],
   "source": [
    "for tab in sa_tabs:\n",
    "    if tab.name.split()[-1] in (\"Inflows\", \"Registrations\"):\n",
    "        print(\"😍 \" + tab.name)\n",
    "        indicator = tab.excel_ref(\"C2\").expand(RIGHT).filter(matches_regexp(\"(Inflow)|(Registrations)\"))\n",
    "    elif tab.name.split()[-1] == \"Population\":\n",
    "        print(\"🥰 \" + tab.name)\n",
    "        indicator = tab.excel_ref(\"C3\").expand(RIGHT).filter(matches_regexp(\"Estimate\"))\n",
    "    else:\n",
    "        # print(\"😖 \" + tab.name)\n",
    "        continue\n",
    "\n",
    "    time = tab.excel_ref(\"C1\").expand(RIGHT).is_not_blank()\n",
    "    geography = tab.excel_ref(\"A4\").expand(DOWN).is_not_blank()\n",
    "    observations = geography.waffle(indicator)\n",
    "\n",
    "    dimensions = [HDim(geography, \"Geography\", DIRECTLY, LEFT),\n",
    "                  HDim(time, \"Year\", CLOSEST, LEFT),\n",
    "                  HDim(indicator, \"Indicator\", DIRECTLY, ABOVE)]\n",
    "\n",
    "    df = ConversionSegment(tab, dimensions, observations).topandas()\n",
    "    df[\"Indicator\"] = new_indicators[tab.name]\n",
    "\n",
    "    work.append(df)"
   ]
  },
  {
   "cell_type": "code",
   "execution_count": 7,
   "metadata": {},
   "outputs": [
    {
     "output_type": "stream",
     "name": "stderr",
     "text": [
      "/usr/local/lib/python3.7/site-packages/ipykernel_launcher.py:1: FutureWarning: Sorting because non-concatenation axis is not aligned. A future version\nof pandas will change to not sort by default.\n\nTo accept the future behavior, pass 'sort=False'.\n\nTo retain the current behavior and silence the warning, pass 'sort=True'.\n\n  \"\"\"Entry point for launching an IPython kernel.\n"
     ]
    }
   ],
   "source": [
    "output = pd.concat(work)"
   ]
  },
  {
   "cell_type": "code",
   "execution_count": 8,
   "metadata": {},
   "outputs": [],
   "source": [
    "df[\"Year\"] = df[\"Year\"].str[4:8].astype(int)"
   ]
  },
  {
   "cell_type": "code",
   "execution_count": 9,
   "metadata": {},
   "outputs": [],
   "source": [
    "df.drop(columns=\"DATAMARKER\", inplace=True)"
   ]
  },
  {
   "cell_type": "code",
   "execution_count": 10,
   "metadata": {},
   "outputs": [
    {
     "output_type": "execute_result",
     "data": {
      "text/plain": [
       "         OBS  Geography  Year             Indicator\n",
       "0     577566  E92000001  2008  New GP registrations\n",
       "1     604357  E92000001  2009  New GP registrations\n",
       "2     613124  E92000001  2010  New GP registrations\n",
       "3     578105  E92000001  2011  New GP registrations\n",
       "4     587279  E92000001  2012  New GP registrations\n",
       "...      ...        ...   ...                   ...\n",
       "4265    3252  E06000014  2013  New GP registrations\n",
       "4266    3018  E06000014  2014  New GP registrations\n",
       "4267    2918  E06000014  2015  New GP registrations\n",
       "4268    3061  E06000014  2016  New GP registrations\n",
       "4269    3068  E06000014  2017  New GP registrations\n",
       "\n",
       "[4270 rows x 4 columns]"
      ],
      "text/html": "<div>\n<style scoped>\n    .dataframe tbody tr th:only-of-type {\n        vertical-align: middle;\n    }\n\n    .dataframe tbody tr th {\n        vertical-align: top;\n    }\n\n    .dataframe thead th {\n        text-align: right;\n    }\n</style>\n<table border=\"1\" class=\"dataframe\">\n  <thead>\n    <tr style=\"text-align: right;\">\n      <th></th>\n      <th>OBS</th>\n      <th>Geography</th>\n      <th>Year</th>\n      <th>Indicator</th>\n    </tr>\n  </thead>\n  <tbody>\n    <tr>\n      <th>0</th>\n      <td>577566</td>\n      <td>E92000001</td>\n      <td>2008</td>\n      <td>New GP registrations</td>\n    </tr>\n    <tr>\n      <th>1</th>\n      <td>604357</td>\n      <td>E92000001</td>\n      <td>2009</td>\n      <td>New GP registrations</td>\n    </tr>\n    <tr>\n      <th>2</th>\n      <td>613124</td>\n      <td>E92000001</td>\n      <td>2010</td>\n      <td>New GP registrations</td>\n    </tr>\n    <tr>\n      <th>3</th>\n      <td>578105</td>\n      <td>E92000001</td>\n      <td>2011</td>\n      <td>New GP registrations</td>\n    </tr>\n    <tr>\n      <th>4</th>\n      <td>587279</td>\n      <td>E92000001</td>\n      <td>2012</td>\n      <td>New GP registrations</td>\n    </tr>\n    <tr>\n      <th>...</th>\n      <td>...</td>\n      <td>...</td>\n      <td>...</td>\n      <td>...</td>\n    </tr>\n    <tr>\n      <th>4265</th>\n      <td>3252</td>\n      <td>E06000014</td>\n      <td>2013</td>\n      <td>New GP registrations</td>\n    </tr>\n    <tr>\n      <th>4266</th>\n      <td>3018</td>\n      <td>E06000014</td>\n      <td>2014</td>\n      <td>New GP registrations</td>\n    </tr>\n    <tr>\n      <th>4267</th>\n      <td>2918</td>\n      <td>E06000014</td>\n      <td>2015</td>\n      <td>New GP registrations</td>\n    </tr>\n    <tr>\n      <th>4268</th>\n      <td>3061</td>\n      <td>E06000014</td>\n      <td>2016</td>\n      <td>New GP registrations</td>\n    </tr>\n    <tr>\n      <th>4269</th>\n      <td>3068</td>\n      <td>E06000014</td>\n      <td>2017</td>\n      <td>New GP registrations</td>\n    </tr>\n  </tbody>\n</table>\n<p>4270 rows × 4 columns</p>\n</div>"
     },
     "metadata": {},
     "execution_count": 10
    }
   ],
   "source": [
    "df"
   ]
  },
  {
   "cell_type": "code",
   "execution_count": null,
   "metadata": {},
   "outputs": [],
   "source": []
  }
 ],
 "metadata": {
  "kernelspec": {
   "display_name": "Python 3",
   "language": "python",
   "name": "python3"
  },
  "language_info": {
   "codemirror_mode": {
    "name": "ipython",
    "version": 3
   },
   "file_extension": ".py",
   "mimetype": "text/x-python",
   "name": "python",
   "nbconvert_exporter": "python",
   "pygments_lexer": "ipython3",
   "version": "3.8.2-final"
  }
 },
 "nbformat": 4,
 "nbformat_minor": 4
}