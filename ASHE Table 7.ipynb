{
 "cells": [
  {
   "cell_type": "markdown",
   "metadata": {},
   "source": [
    "# ASHE Table 7\n",
    "\n",
    "-----\n",
    "\n",
    "### Requirements\n",
    "\n",
    "\"Annual Summary of Hours and Earnings\"\n",
    "\n",
    "\n",
    "#### Observations & Dimensions\n",
    "\n",
    "The `observations` are the numbers in the percentile columns.\n",
    "\n",
    "The required dimensions are:\n",
    "\n",
    "* **Geography** - in the `Code` column, one letter followed by 8 digits\n",
    "* **Percentiles** - 10,20,30, etc\n",
    "* **Time** - year, 4 digits\n",
    "* **Gender** - Male, Female, All\n",
    "* **Working Pattern** - Full time, Part time, All\n",
    "* **Statistics** - The \"topic\" of the dataset, i.e \"monthly pay net etc\", in the filename\n",
    "\n",
    "-----\n",
    "    \n",
    "Notes:\n",
    "\n",
    "The \"statistics\" seems pointless because we're looking at one file. In production there are 24 per year per ASHE table.\n",
    "\n",
    "It's always worth getting the file out of /sources and having a look over."
   ]
  },
  {
   "cell_type": "code",
   "execution_count": 3,
   "metadata": {},
   "outputs": [
    {
     "output_type": "stream",
     "name": "stdout",
     "text": [
      "/workspace/mock-transformations\n"
     ]
    }
   ],
   "source": [
    "%cd mock-transformations/"
   ]
  },
  {
   "cell_type": "code",
   "execution_count": 4,
   "metadata": {},
   "outputs": [
    {
     "output_type": "stream",
     "name": "stdout",
     "text": [
      "Loading ./sources/PROV - Work Geography Table 7.1a   Weekly pay - Gross 2018.xls which has size 846336 bytes\n",
      "Table names: ['Notes', 'All', 'Male', 'Female', 'Full-Time', 'Part-Time', 'Male Full-Time', 'Male Part-Time', 'Female Full-Time', 'Female Part-Time']\n"
     ]
    }
   ],
   "source": [
    "from databaker.framework import *\n",
    "import pandas as pd\n",
    "\n",
    "tabs = loadxlstabs(r\"\"\"./sources/PROV - Work Geography Table 7.1a   Weekly pay - Gross 2018.xls\"\"\")"
   ]
  },
  {
   "cell_type": "code",
   "execution_count": null,
   "metadata": {},
   "outputs": [],
   "source": [
    "for tab in tabs:\n",
    "    if tab.name == 'Notes':\n",
    "        continue\n",
    "\n",
    "    # Geography is easy\n",
    "    geography = tab.excel_ref(\"B6\").expand(DOWN).is_not_blank()\n",
    "    \n",
    "    # Manually naming \n"
   ]
  }
 ],
 "metadata": {
  "kernelspec": {
   "display_name": "Python 3",
   "language": "python",
   "name": "python3"
  },
  "language_info": {
   "codemirror_mode": {
    "name": "ipython",
    "version": 3
   },
   "file_extension": ".py",
   "mimetype": "text/x-python",
   "name": "python",
   "nbconvert_exporter": "python",
   "pygments_lexer": "ipython3",
   "version": "3.8.2-final"
  }
 },
 "nbformat": 4,
 "nbformat_minor": 4
}