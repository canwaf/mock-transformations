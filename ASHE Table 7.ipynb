{
 "cells": [
  {
   "cell_type": "markdown",
   "metadata": {},
   "source": [
    "# ASHE Table 7\n",
    "\n",
    "-----\n",
    "\n",
    "### Requirements\n",
    "\n",
    "\"Annual Summary of Hours and Earnings\"\n",
    "\n",
    "\n",
    "#### Observations & Dimensions\n",
    "\n",
    "The `observations` are the numbers in the percentile columns.\n",
    "\n",
    "The required dimensions are:\n",
    "\n",
    "* **Geography** - in the `Code` column, one letter followed by 8 digits\n",
    "* **Percentiles** - 10,20,30, etc\n",
    "* **Time** - year, 4 digits\n",
    "* **Gender** - Male, Female, All\n",
    "* **Working Pattern** - Full time, Part time, All\n",
    "* **Statistics** - The \"topic\" of the dataset, i.e \"monthly pay net etc\", in the filename\n",
    "\n",
    "-----\n",
    "    \n",
    "Notes:\n",
    "\n",
    "The \"statistics\" seems pointless because we're looking at one file. In production there are 24 per year per ASHE table.\n",
    "\n",
    "It's always worth getting the file out of /sources and having a look over."
   ]
  },
  {
   "cell_type": "code",
   "execution_count": 1,
   "metadata": {},
   "outputs": [
    {
     "output_type": "stream",
     "name": "stdout",
     "text": [
      "/workspace/mock-transformations\n"
     ]
    }
   ],
   "source": [
    "%cd mock-transformations/"
   ]
  },
  {
   "cell_type": "code",
   "execution_count": 2,
   "metadata": {},
   "outputs": [],
   "source": [
    "import pandas as pd\n",
    "import numpy as np\n",
    "import collections\n",
    "\n",
    "excel_path = 'sources/PROV - Work Geography Table 7.1a   Weekly pay - Gross 2018.xls'"
   ]
  },
  {
   "cell_type": "code",
   "execution_count": 3,
   "metadata": {},
   "outputs": [],
   "source": [
    "# Riping through this dataset in Pandas is much faster because despite the shape being the same, split cells require renaming\n",
    "# Dictionary of Excel contents\n",
    "#   Worksheet Name      Gender          Working Pattern\n",
    "excel_ws = {\n",
    "    'All':              ('All',         'All'),\n",
    "    'Male':             ('Males',       'All'),\n",
    "    'Female':           ('Females',     'All'),\n",
    "    'Full-Time':        ('All',         'Full-Time'),\n",
    "    'Part-Time':        ('All',         'Part-Time'),\n",
    "    'Male Full-Time':   ('Male',        'Full-Time'),\n",
    "    'Male Part-Time':   ('Male',        'Part-Time'),\n",
    "    'Female Full-Time': ('Females',     'Full-Time'),\n",
    "    'Female Part-Time': ('Females',     'Part-Time')\n",
    "}"
   ]
  },
  {
   "cell_type": "code",
   "execution_count": 4,
   "metadata": {},
   "outputs": [],
   "source": [
    "# Worksheet Definitinos\n",
    "#   Column Name         Units\n",
    "columns = collections.OrderedDict()\n",
    "columns = {\n",
    "    'Number of Jobs':                   'Thousands',\n",
    "    'Median':                           'GBP/week',\n",
    "    'Annual Percentage change Median':  'Percent',\n",
    "    'Mean':                             'GBP/week',\n",
    "    'Annual Percentage change Mean':    'Percent',\n",
    "    '10th Percentile':                  'GBP/week',                     \n",
    "    '20th Percentile':                  'GBP/week',\n",
    "    '25th Percentile':                  'GBP/week',\n",
    "    '30th Percentile':                  'GBP/week',\n",
    "    '40th Percentile':                  'GBP/week',\n",
    "    '60th Percentile':                  'GBP/week',\n",
    "    '70th Percentile':                  'GBP/week',\n",
    "    '75th Percentile':                  'GBP/week',\n",
    "    '80th Percentile':                  'GBP/week',\n",
    "    '90th Percentile':                  'GBP/week'\n",
    "}\n",
    "\n"
   ]
  },
  {
   "cell_type": "code",
   "execution_count": 5,
   "metadata": {},
   "outputs": [],
   "source": [
    "work = list()\n",
    "for ws_name, ((gender, work_hours)) in excel_ws.items():\n",
    "    df = pd.read_excel(io=excel_path, sheet_name=ws_name, header=4, index_col=1)\n",
    "    df.drop(labels=['Description', 'Unnamed: 17', 'Unnamed: 18', 'Unnamed: 19'], axis=1, inplace=True)\n",
    "    df.columns = pd.MultiIndex.from_tuples([(gender, work_hours, x) for x in columns.keys()])\n",
    "    df = df[df.index.notnull()].replace(r'x', np.nan)\n",
    "    work.append(df)"
   ]
  },
  {
   "cell_type": "code",
   "execution_count": 7,
   "metadata": {},
   "outputs": [
    {
     "output_type": "execute_result",
     "data": {
      "text/plain": [
       "                   Males                                                \\\n",
       "                     All                                                 \n",
       "          Number of Jobs Median Annual Percentage change Median   Mean   \n",
       "Code                                                                     \n",
       "K02000001          13347  555.0                             2.7  666.8   \n",
       "K03000001          12950  556.5                             2.4  670.0   \n",
       "K04000001          11851  557.9                             2.4  673.4   \n",
       "E92000001          11300  562.2                             2.6  678.9   \n",
       "E12000001            466  506.6                             1.0  590.1   \n",
       "...                  ...    ...                             ...    ...   \n",
       "S12000029             56  574.9                            -0.5  621.1   \n",
       "S12000030             20  590.5                             6.3  653.2   \n",
       "S12000039             17  531.2                             2.5  620.7   \n",
       "S12000040             48  570.0                             6.4  720.2   \n",
       "N92000002            397  479.1                             3.2  560.8   \n",
       "\n",
       "                                                                         \\\n",
       "                                                                          \n",
       "          Annual Percentage change Mean 10th Percentile 20th Percentile   \n",
       "Code                                                                      \n",
       "K02000001                           3.1           224.2           342.7   \n",
       "K03000001                           3.1           225.0           344.3   \n",
       "K04000001                           3.2           225.6           344.5   \n",
       "E92000001                           3.3           226.8           345.0   \n",
       "E12000001                           2.1           234.9           335.4   \n",
       "...                                 ...             ...             ...   \n",
       "S12000029                           1.6           234.6           361.9   \n",
       "S12000030                           2.6           243.1           348.3   \n",
       "S12000039                           3.4             NaN           344.1   \n",
       "S12000040                          18.9           323.6           393.7   \n",
       "N92000002                           2.6           202.4           313.2   \n",
       "\n",
       "                                                                           \\\n",
       "                                                                            \n",
       "          25th Percentile 30th Percentile 40th Percentile 60th Percentile   \n",
       "Code                                                                        \n",
       "K02000001           376.3           410.6           479.1           639.2   \n",
       "K03000001           378.2           412.5           481.1           642.2   \n",
       "K04000001           378.7           413.3           481.5           643.9   \n",
       "E92000001           380.6           416.1           485.2           648.8   \n",
       "E12000001           360.0           387.7           442.9           577.2   \n",
       "...                   ...             ...             ...             ...   \n",
       "S12000029           390.8           420.6           490.6           644.1   \n",
       "S12000030           402.3           441.2           520.6           667.4   \n",
       "S12000039           387.6           436.9           492.1           623.9   \n",
       "S12000040           435.9           459.3           519.9           634.2   \n",
       "N92000002           340.0           364.1           423.1           556.0   \n",
       "\n",
       "                                                                           \n",
       "                                                                           \n",
       "          70th Percentile 75th Percentile 80th Percentile 90th Percentile  \n",
       "Code                                                                       \n",
       "K02000001           745.3           808.2           888.8          1166.3  \n",
       "K03000001           748.4           812.3           893.0          1172.9  \n",
       "K04000001           751.6           817.9           900.0          1184.4  \n",
       "E92000001           759.5           824.1           907.0          1195.5  \n",
       "E12000001           669.3           718.6           775.2           969.1  \n",
       "...                   ...             ...             ...             ...  \n",
       "S12000029           736.2           788.8           827.7             NaN  \n",
       "S12000030           780.2           845.8             NaN             NaN  \n",
       "S12000039           686.5             NaN             NaN             NaN  \n",
       "S12000040           739.7           776.9           912.5             NaN  \n",
       "N92000002           639.3           694.8           762.3           948.3  \n",
       "\n",
       "[431 rows x 15 columns]"
      ],
      "text/html": "<div>\n<style scoped>\n    .dataframe tbody tr th:only-of-type {\n        vertical-align: middle;\n    }\n\n    .dataframe tbody tr th {\n        vertical-align: top;\n    }\n\n    .dataframe thead tr th {\n        text-align: left;\n    }\n\n    .dataframe thead tr:last-of-type th {\n        text-align: right;\n    }\n</style>\n<table border=\"1\" class=\"dataframe\">\n  <thead>\n    <tr>\n      <th></th>\n      <th colspan=\"15\" halign=\"left\">Males</th>\n    </tr>\n    <tr>\n      <th></th>\n      <th colspan=\"15\" halign=\"left\">All</th>\n    </tr>\n    <tr>\n      <th></th>\n      <th>Number of Jobs</th>\n      <th>Median</th>\n      <th>Annual Percentage change Median</th>\n      <th>Mean</th>\n      <th>Annual Percentage change Mean</th>\n      <th>10th Percentile</th>\n      <th>20th Percentile</th>\n      <th>25th Percentile</th>\n      <th>30th Percentile</th>\n      <th>40th Percentile</th>\n      <th>60th Percentile</th>\n      <th>70th Percentile</th>\n      <th>75th Percentile</th>\n      <th>80th Percentile</th>\n      <th>90th Percentile</th>\n    </tr>\n    <tr>\n      <th>Code</th>\n      <th></th>\n      <th></th>\n      <th></th>\n      <th></th>\n      <th></th>\n      <th></th>\n      <th></th>\n      <th></th>\n      <th></th>\n      <th></th>\n      <th></th>\n      <th></th>\n      <th></th>\n      <th></th>\n      <th></th>\n    </tr>\n  </thead>\n  <tbody>\n    <tr>\n      <th>K02000001</th>\n      <td>13347</td>\n      <td>555.0</td>\n      <td>2.7</td>\n      <td>666.8</td>\n      <td>3.1</td>\n      <td>224.2</td>\n      <td>342.7</td>\n      <td>376.3</td>\n      <td>410.6</td>\n      <td>479.1</td>\n      <td>639.2</td>\n      <td>745.3</td>\n      <td>808.2</td>\n      <td>888.8</td>\n      <td>1166.3</td>\n    </tr>\n    <tr>\n      <th>K03000001</th>\n      <td>12950</td>\n      <td>556.5</td>\n      <td>2.4</td>\n      <td>670.0</td>\n      <td>3.1</td>\n      <td>225.0</td>\n      <td>344.3</td>\n      <td>378.2</td>\n      <td>412.5</td>\n      <td>481.1</td>\n      <td>642.2</td>\n      <td>748.4</td>\n      <td>812.3</td>\n      <td>893.0</td>\n      <td>1172.9</td>\n    </tr>\n    <tr>\n      <th>K04000001</th>\n      <td>11851</td>\n      <td>557.9</td>\n      <td>2.4</td>\n      <td>673.4</td>\n      <td>3.2</td>\n      <td>225.6</td>\n      <td>344.5</td>\n      <td>378.7</td>\n      <td>413.3</td>\n      <td>481.5</td>\n      <td>643.9</td>\n      <td>751.6</td>\n      <td>817.9</td>\n      <td>900.0</td>\n      <td>1184.4</td>\n    </tr>\n    <tr>\n      <th>E92000001</th>\n      <td>11300</td>\n      <td>562.2</td>\n      <td>2.6</td>\n      <td>678.9</td>\n      <td>3.3</td>\n      <td>226.8</td>\n      <td>345.0</td>\n      <td>380.6</td>\n      <td>416.1</td>\n      <td>485.2</td>\n      <td>648.8</td>\n      <td>759.5</td>\n      <td>824.1</td>\n      <td>907.0</td>\n      <td>1195.5</td>\n    </tr>\n    <tr>\n      <th>E12000001</th>\n      <td>466</td>\n      <td>506.6</td>\n      <td>1.0</td>\n      <td>590.1</td>\n      <td>2.1</td>\n      <td>234.9</td>\n      <td>335.4</td>\n      <td>360.0</td>\n      <td>387.7</td>\n      <td>442.9</td>\n      <td>577.2</td>\n      <td>669.3</td>\n      <td>718.6</td>\n      <td>775.2</td>\n      <td>969.1</td>\n    </tr>\n    <tr>\n      <th>...</th>\n      <td>...</td>\n      <td>...</td>\n      <td>...</td>\n      <td>...</td>\n      <td>...</td>\n      <td>...</td>\n      <td>...</td>\n      <td>...</td>\n      <td>...</td>\n      <td>...</td>\n      <td>...</td>\n      <td>...</td>\n      <td>...</td>\n      <td>...</td>\n      <td>...</td>\n    </tr>\n    <tr>\n      <th>S12000029</th>\n      <td>56</td>\n      <td>574.9</td>\n      <td>-0.5</td>\n      <td>621.1</td>\n      <td>1.6</td>\n      <td>234.6</td>\n      <td>361.9</td>\n      <td>390.8</td>\n      <td>420.6</td>\n      <td>490.6</td>\n      <td>644.1</td>\n      <td>736.2</td>\n      <td>788.8</td>\n      <td>827.7</td>\n      <td>NaN</td>\n    </tr>\n    <tr>\n      <th>S12000030</th>\n      <td>20</td>\n      <td>590.5</td>\n      <td>6.3</td>\n      <td>653.2</td>\n      <td>2.6</td>\n      <td>243.1</td>\n      <td>348.3</td>\n      <td>402.3</td>\n      <td>441.2</td>\n      <td>520.6</td>\n      <td>667.4</td>\n      <td>780.2</td>\n      <td>845.8</td>\n      <td>NaN</td>\n      <td>NaN</td>\n    </tr>\n    <tr>\n      <th>S12000039</th>\n      <td>17</td>\n      <td>531.2</td>\n      <td>2.5</td>\n      <td>620.7</td>\n      <td>3.4</td>\n      <td>NaN</td>\n      <td>344.1</td>\n      <td>387.6</td>\n      <td>436.9</td>\n      <td>492.1</td>\n      <td>623.9</td>\n      <td>686.5</td>\n      <td>NaN</td>\n      <td>NaN</td>\n      <td>NaN</td>\n    </tr>\n    <tr>\n      <th>S12000040</th>\n      <td>48</td>\n      <td>570.0</td>\n      <td>6.4</td>\n      <td>720.2</td>\n      <td>18.9</td>\n      <td>323.6</td>\n      <td>393.7</td>\n      <td>435.9</td>\n      <td>459.3</td>\n      <td>519.9</td>\n      <td>634.2</td>\n      <td>739.7</td>\n      <td>776.9</td>\n      <td>912.5</td>\n      <td>NaN</td>\n    </tr>\n    <tr>\n      <th>N92000002</th>\n      <td>397</td>\n      <td>479.1</td>\n      <td>3.2</td>\n      <td>560.8</td>\n      <td>2.6</td>\n      <td>202.4</td>\n      <td>313.2</td>\n      <td>340.0</td>\n      <td>364.1</td>\n      <td>423.1</td>\n      <td>556.0</td>\n      <td>639.3</td>\n      <td>694.8</td>\n      <td>762.3</td>\n      <td>948.3</td>\n    </tr>\n  </tbody>\n</table>\n<p>431 rows × 15 columns</p>\n</div>"
     },
     "metadata": {},
     "execution_count": 7
    }
   ],
   "source": [
    "work[1]"
   ]
  },
  {
   "cell_type": "code",
   "execution_count": 8,
   "metadata": {},
   "outputs": [],
   "source": [
    "# Join the dataframes, unstack, and reset index\n",
    "output = pd.concat(work, axis=1, join='inner').unstack().reset_index()"
   ]
  },
  {
   "cell_type": "code",
   "execution_count": 10,
   "metadata": {},
   "outputs": [],
   "source": [
    "# Name those columns\n",
    "output.columns = ['Gender', 'Working Pattern', 'Measure', 'Geography', 'OBS']"
   ]
  },
  {
   "cell_type": "code",
   "execution_count": 12,
   "metadata": {},
   "outputs": [],
   "source": [
    "output['Time'] = 2018\n",
    "output['Statistic'] = 'Gross weekly pay'\n",
    "output['Units'] = output['Measure'].replace(columns)"
   ]
  },
  {
   "cell_type": "code",
   "execution_count": 13,
   "metadata": {},
   "outputs": [
    {
     "output_type": "execute_result",
     "data": {
      "text/plain": [
       "        Gender Working Pattern          Measure  Geography    OBS  Time  \\\n",
       "0          All             All   Number of Jobs  K02000001  26417  2018   \n",
       "1          All             All   Number of Jobs  K03000001  25633  2018   \n",
       "2          All             All   Number of Jobs  K04000001  23324  2018   \n",
       "3          All             All   Number of Jobs  E92000001  22204  2018   \n",
       "4          All             All   Number of Jobs  E12000001    984  2018   \n",
       "...        ...             ...              ...        ...    ...   ...   \n",
       "58180  Females       Part-Time  90th Percentile  S12000029    NaN  2018   \n",
       "58181  Females       Part-Time  90th Percentile  S12000030    NaN  2018   \n",
       "58182  Females       Part-Time  90th Percentile  S12000039    NaN  2018   \n",
       "58183  Females       Part-Time  90th Percentile  S12000040    NaN  2018   \n",
       "58184  Females       Part-Time  90th Percentile  N92000002  390.6  2018   \n",
       "\n",
       "              Statistic      Units  \n",
       "0      Gross weekly pay  Thousands  \n",
       "1      Gross weekly pay  Thousands  \n",
       "2      Gross weekly pay  Thousands  \n",
       "3      Gross weekly pay  Thousands  \n",
       "4      Gross weekly pay  Thousands  \n",
       "...                 ...        ...  \n",
       "58180  Gross weekly pay   GBP/week  \n",
       "58181  Gross weekly pay   GBP/week  \n",
       "58182  Gross weekly pay   GBP/week  \n",
       "58183  Gross weekly pay   GBP/week  \n",
       "58184  Gross weekly pay   GBP/week  \n",
       "\n",
       "[58185 rows x 8 columns]"
      ],
      "text/html": "<div>\n<style scoped>\n    .dataframe tbody tr th:only-of-type {\n        vertical-align: middle;\n    }\n\n    .dataframe tbody tr th {\n        vertical-align: top;\n    }\n\n    .dataframe thead th {\n        text-align: right;\n    }\n</style>\n<table border=\"1\" class=\"dataframe\">\n  <thead>\n    <tr style=\"text-align: right;\">\n      <th></th>\n      <th>Gender</th>\n      <th>Working Pattern</th>\n      <th>Measure</th>\n      <th>Geography</th>\n      <th>OBS</th>\n      <th>Time</th>\n      <th>Statistic</th>\n      <th>Units</th>\n    </tr>\n  </thead>\n  <tbody>\n    <tr>\n      <th>0</th>\n      <td>All</td>\n      <td>All</td>\n      <td>Number of Jobs</td>\n      <td>K02000001</td>\n      <td>26417</td>\n      <td>2018</td>\n      <td>Gross weekly pay</td>\n      <td>Thousands</td>\n    </tr>\n    <tr>\n      <th>1</th>\n      <td>All</td>\n      <td>All</td>\n      <td>Number of Jobs</td>\n      <td>K03000001</td>\n      <td>25633</td>\n      <td>2018</td>\n      <td>Gross weekly pay</td>\n      <td>Thousands</td>\n    </tr>\n    <tr>\n      <th>2</th>\n      <td>All</td>\n      <td>All</td>\n      <td>Number of Jobs</td>\n      <td>K04000001</td>\n      <td>23324</td>\n      <td>2018</td>\n      <td>Gross weekly pay</td>\n      <td>Thousands</td>\n    </tr>\n    <tr>\n      <th>3</th>\n      <td>All</td>\n      <td>All</td>\n      <td>Number of Jobs</td>\n      <td>E92000001</td>\n      <td>22204</td>\n      <td>2018</td>\n      <td>Gross weekly pay</td>\n      <td>Thousands</td>\n    </tr>\n    <tr>\n      <th>4</th>\n      <td>All</td>\n      <td>All</td>\n      <td>Number of Jobs</td>\n      <td>E12000001</td>\n      <td>984</td>\n      <td>2018</td>\n      <td>Gross weekly pay</td>\n      <td>Thousands</td>\n    </tr>\n    <tr>\n      <th>...</th>\n      <td>...</td>\n      <td>...</td>\n      <td>...</td>\n      <td>...</td>\n      <td>...</td>\n      <td>...</td>\n      <td>...</td>\n      <td>...</td>\n    </tr>\n    <tr>\n      <th>58180</th>\n      <td>Females</td>\n      <td>Part-Time</td>\n      <td>90th Percentile</td>\n      <td>S12000029</td>\n      <td>NaN</td>\n      <td>2018</td>\n      <td>Gross weekly pay</td>\n      <td>GBP/week</td>\n    </tr>\n    <tr>\n      <th>58181</th>\n      <td>Females</td>\n      <td>Part-Time</td>\n      <td>90th Percentile</td>\n      <td>S12000030</td>\n      <td>NaN</td>\n      <td>2018</td>\n      <td>Gross weekly pay</td>\n      <td>GBP/week</td>\n    </tr>\n    <tr>\n      <th>58182</th>\n      <td>Females</td>\n      <td>Part-Time</td>\n      <td>90th Percentile</td>\n      <td>S12000039</td>\n      <td>NaN</td>\n      <td>2018</td>\n      <td>Gross weekly pay</td>\n      <td>GBP/week</td>\n    </tr>\n    <tr>\n      <th>58183</th>\n      <td>Females</td>\n      <td>Part-Time</td>\n      <td>90th Percentile</td>\n      <td>S12000040</td>\n      <td>NaN</td>\n      <td>2018</td>\n      <td>Gross weekly pay</td>\n      <td>GBP/week</td>\n    </tr>\n    <tr>\n      <th>58184</th>\n      <td>Females</td>\n      <td>Part-Time</td>\n      <td>90th Percentile</td>\n      <td>N92000002</td>\n      <td>390.6</td>\n      <td>2018</td>\n      <td>Gross weekly pay</td>\n      <td>GBP/week</td>\n    </tr>\n  </tbody>\n</table>\n<p>58185 rows × 8 columns</p>\n</div>"
     },
     "metadata": {},
     "execution_count": 13
    }
   ],
   "source": [
    "output"
   ]
  },
  {
   "cell_type": "code",
   "execution_count": null,
   "metadata": {},
   "outputs": [],
   "source": []
  }
 ],
 "metadata": {
  "kernelspec": {
   "display_name": "Python 3",
   "language": "python",
   "name": "python3"
  },
  "language_info": {
   "codemirror_mode": {
    "name": "ipython",
    "version": 3
   },
   "file_extension": ".py",
   "mimetype": "text/x-python",
   "name": "python",
   "nbconvert_exporter": "python",
   "pygments_lexer": "ipython3",
   "version": "3.8.2-final"
  }
 },
 "nbformat": 4,
 "nbformat_minor": 4
}