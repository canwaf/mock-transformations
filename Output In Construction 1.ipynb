{
 "cells": [
  {
   "cell_type": "markdown",
   "metadata": {},
   "source": [
    "# Output In The Construction Industry\n",
    "\n",
    "-----\n",
    "\n",
    "### Requirements\n",
    "\n",
    "We're looking to transform **tabs 1 and 2 only**.\n",
    "\n",
    "#### Observations & Dimensions\n",
    "\n",
    "The `observations` should be apparent.\n",
    "\n",
    "The required dimensions are:\n",
    "\n",
    "* **Geography** - it's all UK level data (the code for UK is \"K02000001\")\n",
    "* **Time** - either a simple year, or a year followed by a quarter, i.e \"2002 Q2\"\n",
    "* **Adjustment** - either seasonal or non-seasonal\n",
    "* **Business** - concatenation of rows 6-9 around hyphens. i.e 'Other New Work - Excluding Infrastructure - Private Commercial'\n",
    "* **CDID** - ONS specific 4 letter codes. Typically on row 10 \n",
    "\n",
    "-----\n",
    "Notes:\n",
    "\n",
    "* Getting the **Business** dimension cleanly is going to be tricky (read - cant see an obvious way to do it), I'd perhaps leave this one until last.\n",
    "* It's always worth getting the file out of /sources and having a look over.\n",
    "* You can't really take CDID as a dimension (dimension items needs to be repeating, not unqiue), it's a good exercise though as if doing this for real we'd likely be taking it as meta/supporting data."
   ]
  },
  {
   "cell_type": "code",
   "execution_count": 1,
   "metadata": {},
   "outputs": [
    {
     "output_type": "stream",
     "name": "stdout",
     "text": [
      "/workspace/mock-transformations\n"
     ]
    }
   ],
   "source": [
    "%cd mock-transformations/"
   ]
  },
  {
   "cell_type": "code",
   "execution_count": 2,
   "metadata": {},
   "outputs": [
    {
     "output_type": "stream",
     "name": "stdout",
     "text": [
      "Loading ./sources/OIC.xls which has size 759808 bytes\n",
      "Table names: ['Cover Sheet', 'Contents', 'Table 1a', 'Table 1b', 'Table 2a', 'Table 2b', 'Table 3a', 'Table 3b', 'Table 3c', 'Table 3d', 'Table 4', 'Table 4a', 'Table 5a', 'Table 5b', 'Table 6a', 'Table 7', 'Table 8', 'Table 9', 'Table 10', 'Table 11']\n"
     ]
    }
   ],
   "source": [
    "from databaker.framework import *\n",
    "import pandas as pd\n",
    "import numpy as np\n",
    "\n",
    "tabs = loadxlstabs(\"./sources/OIC.xls\") # load tabs"
   ]
  },
  {
   "source": [
    "# Thar be dragons\n",
    "The hierarchy associated with the Business sector and the CDID should be treated as a seperate transform, and then joined together at the end. This will make the transform simpler.\n",
    "\n",
    "## Transform steps\n",
    "1. Process headers as a dataset with the CDIDs as observations\n",
    "2. Process observations as a dataset with the CDIDs as a dimension\n",
    "3. Merge headers and observations on the CDIDs to create a new complete dataframe\n",
    "\n",
    "### Headers/Observations\n",
    "|       | Column A | Column B      | Column C  | Column D      |  Column E     |   Column F    |\n",
    "|-------|----------|---------------|-----------|---------------|---------------|---------------|\n",
    "| Row 1 | YYYY MMM | Category A    |           | Category B    |               | Category C    |\n",
    "| Row 2 | YYYY MMM | Subcategory 1 |           | Subcategory 2 | Subcategory 3 | Subcategory 4 |\n",
    "| Row 3 | YYYY MMM | Detail i      | Detail ii | Detail iii    | Detail iv     | Detail v      |\n",
    "| Row 4 | YYYY MMM | Code 1        | Code 2    | Code 3        | Code 4        | Code 5        |\n",
    "| Row 5 | YYYY MMM | OBS v         | OBS w     | OBS x         | OBS y         | OBS z         |\n",
    "\n",
    "* Codes 1 through 5 should be treated as the observations, and the Categories, Subcategories, Details should be treated as a dimension\n",
    "* The acutal Observations (Row 5 and below) should be lined with the CDID (e.g. Codes 1-5) and the dates.\n",
    "* Provide up-to three levels of business classification dimentions\n",
    "\n",
    "## Other notes\n",
    "* Units should be confirmed that these values are indexed to 2016=100."
   ],
   "cell_type": "markdown",
   "metadata": {}
  },
  {
   "cell_type": "code",
   "execution_count": 3,
   "metadata": {},
   "outputs": [],
   "source": [
    "def fetch_headers(tab) -> pd.DataFrame:\n",
    "    # We're futorunate that all the header information is the same\n",
    "    business_level1 = tab.excel_ref(\"C6\").expand(RIGHT)\n",
    "    business_level2 = tab.excel_ref(\"C7\").expand(RIGHT)\n",
    "    business_level3 = tab.excel_ref(\"C8\").expand(RIGHT)\n",
    "\n",
    "    # These are the CDIDs\n",
    "    observations = tab.excel_ref(\"C10\").expand(RIGHT).is_not_blank()\n",
    "\n",
    "    dimensions = [HDim(business_level1, \"business_level1\", CLOSEST, LEFT),\n",
    "                  HDim(business_level2, \"business_level2\", CLOSEST, LEFT),\n",
    "                  HDim(business_level3, \"business_level3\", CLOSEST, LEFT)]\n",
    "    \n",
    "    # Convert to dataframe\n",
    "    headers_and_codes = ConversionSegment(tab, dimensions, observations).topandas()\n",
    "    # Convert empty strings to nans\n",
    "    headers_and_codes = headers_and_codes.replace(r'', np.nan)\n",
    "    # Transpose\n",
    "    headers_only = headers_and_codes.transpose()\n",
    "    # Omit the codes and fill down on nans\n",
    "    headers_only = headers_only.iloc[2:].fillna(method='ffill')\n",
    "    # Transpose again and fill down on nans\n",
    "    headers_only = headers_only.transpose().fillna(method='ffill')\n",
    "\n",
    "    # Compare values between business_level2 and busines_level3, clear dupes on latter\n",
    "    mask = (headers_only.loc[:,'business_level3'] == headers_only.loc[:,'business_level2'])\n",
    "    headers_only.loc[mask, 'business_level3'] = np.nan\n",
    "\n",
    "    # Compare values between business_level1 and busines_level2, clear dupes on latter\n",
    "    mask = (headers_only.loc[:,'business_level2'] == headers_only.loc[:,'business_level1'])\n",
    "    headers_only.loc[mask, 'business_level2'] = np.nan\n",
    "\n",
    "    # Join\n",
    "    headers_and_codes = pd.concat([headers_only, headers_and_codes.iloc[:,1]], axis=1)\n",
    "    headers_and_codes.rename(columns={\"DATAMARKER\": \"CDID\"}, inplace=True)\n",
    "    return headers_and_codes\n",
    "    # This is likely broken as the levels aren't closest left. Check the output\n",
    "    "
   ]
  },
  {
   "cell_type": "code",
   "execution_count": 4,
   "metadata": {},
   "outputs": [],
   "source": [
    "def fetch_contents(tab) -> pd.DataFrame:\n",
    "    # Start of the CDIDs is the same throughout all the tabs\n",
    "    cdids = tab.excel_ref(\"C10\").expand(RIGHT).is_not_blank()\n",
    "\n",
    "    # There are up-to two levels of the time dimension\n",
    "    time_level1 = tab.excel_ref(\"A11\").expand(DOWN).is_not_blank()\n",
    "    time_level2 = tab.excel_ref(\"B11\").expand(DOWN)\n",
    "\n",
    "    # Put the 🍁 syrup away, no waffle here sadly\n",
    "    observations = tab.excel_ref(\"C11\").expand(DOWN).expand(RIGHT).is_not_blank()\n",
    "\n",
    "    dimensions = [HDim(time_level1, \"time_level1\", CLOSEST, ABOVE),\n",
    "                  HDim(time_level2, \"time_level2\", DIRECTLY, LEFT),\n",
    "                  HDim(cdids, \"CDID\", DIRECTLY, ABOVE),\n",
    "                  HDimConst(\"units\", tab.excel_ref(\"P5\").value),\n",
    "                  HDimConst(\"adjustment\", tab.excel_ref(\"C2\").value),\n",
    "                  HDimConst(\"geography\", \"K02000001\")]\n",
    "    \n",
    "    return ConversionSegment(tab, dimensions, observations).topandas() #.replace(r'', np.nan)"
   ]
  },
  {
   "cell_type": "code",
   "execution_count": 5,
   "metadata": {},
   "outputs": [
    {
     "output_type": "stream",
     "name": "stdout",
     "text": [
      "\n",
      "\n",
      "\n",
      "\n",
      "\n",
      "\n",
      "\n",
      "\n"
     ]
    }
   ],
   "source": [
    "# All the hard work is now done\n",
    "work = list()\n",
    "for tab in tabs:\n",
    "    if tab.name not in ['Table 1a', 'Table 1b', 'Table 2a', 'Table 2b']:\n",
    "        continue\n",
    "    \n",
    "    df = fetch_contents(tab).set_index(\"CDID\").join(fetch_headers(tab).set_index(\"CDID\"), how=\"left\", on=\"CDID\")\n",
    "\n",
    "    work.append(df)\n"
   ]
  },
  {
   "cell_type": "code",
   "execution_count": 6,
   "metadata": {},
   "outputs": [],
   "source": [
    "# Join into a single dataframe\n",
    "output = pd.concat(work)\n",
    "# Drop duplicated column names\n",
    "# output = output.loc[:,~output.columns.duplicated()]\n",
    "# We played with the indexes to clear things up, so release it to the dimensions\n",
    "output.reset_index(inplace=True)"
   ]
  },
  {
   "cell_type": "code",
   "execution_count": 7,
   "metadata": {},
   "outputs": [
    {
     "output_type": "execute_result",
     "data": {
      "text/plain": [
       "   CDID   OBS time_level1 time_level2     units  \\\n",
       "0  MV36  38.9      1997.0              2016=100   \n",
       "1  MV37  51.9      1997.0              2016=100   \n",
       "2  MVL7  49.9      1997.0              2016=100   \n",
       "3  MV38  69.6      1997.0              2016=100   \n",
       "4  MV39  50.0      1997.0              2016=100   \n",
       "\n",
       "                                          adjustment  geography  \\\n",
       "0  CONSTRUCTION OUTPUT IN GREAT BRITAIN: VOLUME S...  K02000001   \n",
       "1  CONSTRUCTION OUTPUT IN GREAT BRITAIN: VOLUME S...  K02000001   \n",
       "2  CONSTRUCTION OUTPUT IN GREAT BRITAIN: VOLUME S...  K02000001   \n",
       "3  CONSTRUCTION OUTPUT IN GREAT BRITAIN: VOLUME S...  K02000001   \n",
       "4  CONSTRUCTION OUTPUT IN GREAT BRITAIN: VOLUME S...  K02000001   \n",
       "\n",
       "  business_level1           business_level2 business_level3  \n",
       "0     New Housing                    Public             NaN  \n",
       "1     New Housing                   Private             NaN  \n",
       "2   Total Housing                       NaN             NaN  \n",
       "3  Other New Work           Infrastruc-ture             NaN  \n",
       "4  Other New Work  Excluding Infrastructure          Public  "
      ],
      "text/html": "<div>\n<style scoped>\n    .dataframe tbody tr th:only-of-type {\n        vertical-align: middle;\n    }\n\n    .dataframe tbody tr th {\n        vertical-align: top;\n    }\n\n    .dataframe thead th {\n        text-align: right;\n    }\n</style>\n<table border=\"1\" class=\"dataframe\">\n  <thead>\n    <tr style=\"text-align: right;\">\n      <th></th>\n      <th>CDID</th>\n      <th>OBS</th>\n      <th>time_level1</th>\n      <th>time_level2</th>\n      <th>units</th>\n      <th>adjustment</th>\n      <th>geography</th>\n      <th>business_level1</th>\n      <th>business_level2</th>\n      <th>business_level3</th>\n    </tr>\n  </thead>\n  <tbody>\n    <tr>\n      <th>0</th>\n      <td>MV36</td>\n      <td>38.9</td>\n      <td>1997.0</td>\n      <td></td>\n      <td>2016=100</td>\n      <td>CONSTRUCTION OUTPUT IN GREAT BRITAIN: VOLUME S...</td>\n      <td>K02000001</td>\n      <td>New Housing</td>\n      <td>Public</td>\n      <td>NaN</td>\n    </tr>\n    <tr>\n      <th>1</th>\n      <td>MV37</td>\n      <td>51.9</td>\n      <td>1997.0</td>\n      <td></td>\n      <td>2016=100</td>\n      <td>CONSTRUCTION OUTPUT IN GREAT BRITAIN: VOLUME S...</td>\n      <td>K02000001</td>\n      <td>New Housing</td>\n      <td>Private</td>\n      <td>NaN</td>\n    </tr>\n    <tr>\n      <th>2</th>\n      <td>MVL7</td>\n      <td>49.9</td>\n      <td>1997.0</td>\n      <td></td>\n      <td>2016=100</td>\n      <td>CONSTRUCTION OUTPUT IN GREAT BRITAIN: VOLUME S...</td>\n      <td>K02000001</td>\n      <td>Total Housing</td>\n      <td>NaN</td>\n      <td>NaN</td>\n    </tr>\n    <tr>\n      <th>3</th>\n      <td>MV38</td>\n      <td>69.6</td>\n      <td>1997.0</td>\n      <td></td>\n      <td>2016=100</td>\n      <td>CONSTRUCTION OUTPUT IN GREAT BRITAIN: VOLUME S...</td>\n      <td>K02000001</td>\n      <td>Other New Work</td>\n      <td>Infrastruc-ture</td>\n      <td>NaN</td>\n    </tr>\n    <tr>\n      <th>4</th>\n      <td>MV39</td>\n      <td>50.0</td>\n      <td>1997.0</td>\n      <td></td>\n      <td>2016=100</td>\n      <td>CONSTRUCTION OUTPUT IN GREAT BRITAIN: VOLUME S...</td>\n      <td>K02000001</td>\n      <td>Other New Work</td>\n      <td>Excluding Infrastructure</td>\n      <td>Public</td>\n    </tr>\n  </tbody>\n</table>\n</div>"
     },
     "metadata": {},
     "execution_count": 7
    }
   ],
   "source": [
    "output.head()"
   ]
  },
  {
   "cell_type": "code",
   "execution_count": 8,
   "metadata": {},
   "outputs": [],
   "source": [
    "# Adjustments\n",
    "# Seasonal adjustments are not the only adjustment to this data, but I digress\n",
    "searepl = {\"NON-SEASONALLY\": \"Non-seasonal\",\n",
    "           \"SEASONALLY\": \"Seasonal\"}\n",
    "for x,y in searepl.items():\n",
    "    output.loc[output[\"adjustment\"].str.contains(x),\"adjustment\"] = y\n"
   ]
  },
  {
   "cell_type": "code",
   "execution_count": 9,
   "metadata": {},
   "outputs": [
    {
     "output_type": "execute_result",
     "data": {
      "text/plain": [
       "       CDID      OBS time_level1 time_level2       units    adjustment  \\\n",
       "0      MV36     38.9      1997.0                2016=100      Seasonal   \n",
       "1      MV37     51.9      1997.0                2016=100      Seasonal   \n",
       "2      MVL7     49.9      1997.0                2016=100      Seasonal   \n",
       "3      MV38     69.6      1997.0                2016=100      Seasonal   \n",
       "4      MV39     50.0      1997.0                2016=100      Seasonal   \n",
       "...     ...      ...         ...         ...         ...           ...   \n",
       "12707  MV4J   1715.0      2019.0        July  (£million)  Non-seasonal   \n",
       "12708  MV4K   2346.0      2019.0        July  (£million)  Non-seasonal   \n",
       "12709  MV4L   2512.0      2019.0        July  (£million)  Non-seasonal   \n",
       "12710  MV4M   4858.0      2019.0        July  (£million)  Non-seasonal   \n",
       "12711  MV4N  14375.0      2019.0        July  (£million)  Non-seasonal   \n",
       "\n",
       "       geography             business_level1           business_level2  \\\n",
       "0      K02000001                 New Housing                    Public   \n",
       "1      K02000001                 New Housing                   Private   \n",
       "2      K02000001               Total Housing                       NaN   \n",
       "3      K02000001              Other New Work           Infrastruc-ture   \n",
       "4      K02000001              Other New Work  Excluding Infrastructure   \n",
       "...          ...                         ...                       ...   \n",
       "12707  K02000001      Repair and Maintenance                   Housing   \n",
       "12708  K02000001      Repair and Maintenance                   Housing   \n",
       "12709  K02000001      Repair and Maintenance           Non Housing R&M   \n",
       "12710  K02000001  All Repair and Maintenance                       NaN   \n",
       "12711  K02000001                    All Work                       NaN   \n",
       "\n",
       "      business_level3  \n",
       "0                 NaN  \n",
       "1                 NaN  \n",
       "2                 NaN  \n",
       "3                 NaN  \n",
       "4              Public  \n",
       "...               ...  \n",
       "12707         Private  \n",
       "12708           Total  \n",
       "12709             NaN  \n",
       "12710             NaN  \n",
       "12711             NaN  \n",
       "\n",
       "[12712 rows x 10 columns]"
      ],
      "text/html": "<div>\n<style scoped>\n    .dataframe tbody tr th:only-of-type {\n        vertical-align: middle;\n    }\n\n    .dataframe tbody tr th {\n        vertical-align: top;\n    }\n\n    .dataframe thead th {\n        text-align: right;\n    }\n</style>\n<table border=\"1\" class=\"dataframe\">\n  <thead>\n    <tr style=\"text-align: right;\">\n      <th></th>\n      <th>CDID</th>\n      <th>OBS</th>\n      <th>time_level1</th>\n      <th>time_level2</th>\n      <th>units</th>\n      <th>adjustment</th>\n      <th>geography</th>\n      <th>business_level1</th>\n      <th>business_level2</th>\n      <th>business_level3</th>\n    </tr>\n  </thead>\n  <tbody>\n    <tr>\n      <th>0</th>\n      <td>MV36</td>\n      <td>38.9</td>\n      <td>1997.0</td>\n      <td></td>\n      <td>2016=100</td>\n      <td>Seasonal</td>\n      <td>K02000001</td>\n      <td>New Housing</td>\n      <td>Public</td>\n      <td>NaN</td>\n    </tr>\n    <tr>\n      <th>1</th>\n      <td>MV37</td>\n      <td>51.9</td>\n      <td>1997.0</td>\n      <td></td>\n      <td>2016=100</td>\n      <td>Seasonal</td>\n      <td>K02000001</td>\n      <td>New Housing</td>\n      <td>Private</td>\n      <td>NaN</td>\n    </tr>\n    <tr>\n      <th>2</th>\n      <td>MVL7</td>\n      <td>49.9</td>\n      <td>1997.0</td>\n      <td></td>\n      <td>2016=100</td>\n      <td>Seasonal</td>\n      <td>K02000001</td>\n      <td>Total Housing</td>\n      <td>NaN</td>\n      <td>NaN</td>\n    </tr>\n    <tr>\n      <th>3</th>\n      <td>MV38</td>\n      <td>69.6</td>\n      <td>1997.0</td>\n      <td></td>\n      <td>2016=100</td>\n      <td>Seasonal</td>\n      <td>K02000001</td>\n      <td>Other New Work</td>\n      <td>Infrastruc-ture</td>\n      <td>NaN</td>\n    </tr>\n    <tr>\n      <th>4</th>\n      <td>MV39</td>\n      <td>50.0</td>\n      <td>1997.0</td>\n      <td></td>\n      <td>2016=100</td>\n      <td>Seasonal</td>\n      <td>K02000001</td>\n      <td>Other New Work</td>\n      <td>Excluding Infrastructure</td>\n      <td>Public</td>\n    </tr>\n    <tr>\n      <th>...</th>\n      <td>...</td>\n      <td>...</td>\n      <td>...</td>\n      <td>...</td>\n      <td>...</td>\n      <td>...</td>\n      <td>...</td>\n      <td>...</td>\n      <td>...</td>\n      <td>...</td>\n    </tr>\n    <tr>\n      <th>12707</th>\n      <td>MV4J</td>\n      <td>1715.0</td>\n      <td>2019.0</td>\n      <td>July</td>\n      <td>(£million)</td>\n      <td>Non-seasonal</td>\n      <td>K02000001</td>\n      <td>Repair and Maintenance</td>\n      <td>Housing</td>\n      <td>Private</td>\n    </tr>\n    <tr>\n      <th>12708</th>\n      <td>MV4K</td>\n      <td>2346.0</td>\n      <td>2019.0</td>\n      <td>July</td>\n      <td>(£million)</td>\n      <td>Non-seasonal</td>\n      <td>K02000001</td>\n      <td>Repair and Maintenance</td>\n      <td>Housing</td>\n      <td>Total</td>\n    </tr>\n    <tr>\n      <th>12709</th>\n      <td>MV4L</td>\n      <td>2512.0</td>\n      <td>2019.0</td>\n      <td>July</td>\n      <td>(£million)</td>\n      <td>Non-seasonal</td>\n      <td>K02000001</td>\n      <td>Repair and Maintenance</td>\n      <td>Non Housing R&amp;M</td>\n      <td>NaN</td>\n    </tr>\n    <tr>\n      <th>12710</th>\n      <td>MV4M</td>\n      <td>4858.0</td>\n      <td>2019.0</td>\n      <td>July</td>\n      <td>(£million)</td>\n      <td>Non-seasonal</td>\n      <td>K02000001</td>\n      <td>All Repair and Maintenance</td>\n      <td>NaN</td>\n      <td>NaN</td>\n    </tr>\n    <tr>\n      <th>12711</th>\n      <td>MV4N</td>\n      <td>14375.0</td>\n      <td>2019.0</td>\n      <td>July</td>\n      <td>(£million)</td>\n      <td>Non-seasonal</td>\n      <td>K02000001</td>\n      <td>All Work</td>\n      <td>NaN</td>\n      <td>NaN</td>\n    </tr>\n  </tbody>\n</table>\n<p>12712 rows × 10 columns</p>\n</div>"
     },
     "metadata": {},
     "execution_count": 9
    }
   ],
   "source": [
    "output"
   ]
  },
  {
   "cell_type": "code",
   "execution_count": 10,
   "metadata": {},
   "outputs": [],
   "source": [
    "# Fix business_level2 \"Infrastuc-ture\" > \"Infrastructure\"\n",
    "output.loc[output[\"business_level2\"] == \"Infrastruc-ture\", \"business_level2\"] = \"Infrastructure\""
   ]
  },
  {
   "cell_type": "code",
   "execution_count": 12,
   "metadata": {},
   "outputs": [],
   "source": [
    "# time column fixes (blanks, ints to strs, and concatenation)\n",
    "output[\"time_level1\"] = output[\"time_level1\"].astype(float).astype(int).astype(str)\n",
    "output[\"time_level2\"] = output[\"time_level2\"].astype(str)\n",
    "output[\"time\"] = output[[\"time_level1\",\"time_level2\"]].apply(lambda x: ' '.join(x), axis=1)\n",
    "output.drop(labels=[\"time_level1\", \"time_level2\"], axis=1, inplace=True)"
   ]
  },
  {
   "cell_type": "code",
   "execution_count": 17,
   "metadata": {},
   "outputs": [
    {
     "output_type": "error",
     "ename": "AttributeError",
     "evalue": "'DataFrame' object has no attribute 'cat'",
     "traceback": [
      "\u001b[0;31m---------------------------------------------------------------------------\u001b[0m",
      "\u001b[0;31mAttributeError\u001b[0m                            Traceback (most recent call last)",
      "\u001b[0;32m<ipython-input-17-38f39d6ae222>\u001b[0m in \u001b[0;36m<module>\u001b[0;34m\u001b[0m\n\u001b[1;32m      1\u001b[0m \u001b[0;31m# business levels\u001b[0m\u001b[0;34m\u001b[0m\u001b[0;34m\u001b[0m\u001b[0;34m\u001b[0m\u001b[0m\n\u001b[0;32m----> 2\u001b[0;31m \u001b[0moutput\u001b[0m\u001b[0;34m[\u001b[0m\u001b[0;34m\"business\"\u001b[0m\u001b[0;34m]\u001b[0m \u001b[0;34m=\u001b[0m \u001b[0moutput\u001b[0m\u001b[0;34m[\u001b[0m\u001b[0;34m[\u001b[0m\u001b[0;34m\"business_level1\"\u001b[0m\u001b[0;34m,\u001b[0m \u001b[0;34m\"business_level2\"\u001b[0m\u001b[0;34m,\u001b[0m \u001b[0;34m\"business_level3\"\u001b[0m\u001b[0;34m]\u001b[0m\u001b[0;34m]\u001b[0m\u001b[0;34m.\u001b[0m\u001b[0mcat\u001b[0m\u001b[0;34m(\u001b[0m\u001b[0msep\u001b[0m\u001b[0;34m=\u001b[0m\u001b[0;34m\" - \"\u001b[0m\u001b[0;34m)\u001b[0m\u001b[0;34m\u001b[0m\u001b[0;34m\u001b[0m\u001b[0m\n\u001b[0m\u001b[1;32m      3\u001b[0m \u001b[0moutput\u001b[0m\u001b[0;34m\u001b[0m\u001b[0;34m\u001b[0m\u001b[0m\n",
      "\u001b[0;32m/usr/local/lib/python3.7/site-packages/pandas/core/generic.py\u001b[0m in \u001b[0;36m__getattr__\u001b[0;34m(self, name)\u001b[0m\n\u001b[1;32m   5177\u001b[0m             \u001b[0;32mif\u001b[0m \u001b[0mself\u001b[0m\u001b[0;34m.\u001b[0m\u001b[0m_info_axis\u001b[0m\u001b[0;34m.\u001b[0m\u001b[0m_can_hold_identifiers_and_holds_name\u001b[0m\u001b[0;34m(\u001b[0m\u001b[0mname\u001b[0m\u001b[0;34m)\u001b[0m\u001b[0;34m:\u001b[0m\u001b[0;34m\u001b[0m\u001b[0;34m\u001b[0m\u001b[0m\n\u001b[1;32m   5178\u001b[0m                 \u001b[0;32mreturn\u001b[0m \u001b[0mself\u001b[0m\u001b[0;34m[\u001b[0m\u001b[0mname\u001b[0m\u001b[0;34m]\u001b[0m\u001b[0;34m\u001b[0m\u001b[0;34m\u001b[0m\u001b[0m\n\u001b[0;32m-> 5179\u001b[0;31m             \u001b[0;32mreturn\u001b[0m \u001b[0mobject\u001b[0m\u001b[0;34m.\u001b[0m\u001b[0m__getattribute__\u001b[0m\u001b[0;34m(\u001b[0m\u001b[0mself\u001b[0m\u001b[0;34m,\u001b[0m \u001b[0mname\u001b[0m\u001b[0;34m)\u001b[0m\u001b[0;34m\u001b[0m\u001b[0;34m\u001b[0m\u001b[0m\n\u001b[0m\u001b[1;32m   5180\u001b[0m \u001b[0;34m\u001b[0m\u001b[0m\n\u001b[1;32m   5181\u001b[0m     \u001b[0;32mdef\u001b[0m \u001b[0m__setattr__\u001b[0m\u001b[0;34m(\u001b[0m\u001b[0mself\u001b[0m\u001b[0;34m,\u001b[0m \u001b[0mname\u001b[0m\u001b[0;34m,\u001b[0m \u001b[0mvalue\u001b[0m\u001b[0;34m)\u001b[0m\u001b[0;34m:\u001b[0m\u001b[0;34m\u001b[0m\u001b[0;34m\u001b[0m\u001b[0m\n",
      "\u001b[0;31mAttributeError\u001b[0m: 'DataFrame' object has no attribute 'cat'"
     ]
    }
   ],
   "source": [
    "# business levels\n",
    "output[\"business\"] = output[[\"business_level1\", \"business_level2\", \"business_level3\"]].cat(sep=\" - \")\n",
    "output"
   ]
  },
  {
   "cell_type": "code",
   "execution_count": null,
   "metadata": {},
   "outputs": [],
   "source": []
  }
 ],
 "metadata": {
  "kernelspec": {
   "display_name": "Python 3",
   "language": "python",
   "name": "python3"
  },
  "language_info": {
   "codemirror_mode": {
    "name": "ipython",
    "version": 3
   },
   "file_extension": ".py",
   "mimetype": "text/x-python",
   "name": "python",
   "nbconvert_exporter": "python",
   "pygments_lexer": "ipython3",
   "version": "3.8.2-final"
  }
 },
 "nbformat": 4,
 "nbformat_minor": 4
}