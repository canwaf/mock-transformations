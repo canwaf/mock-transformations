{
 "cells": [
  {
   "cell_type": "markdown",
   "metadata": {},
   "source": [
    "# Output In The Construction Industry\n",
    "\n",
    "-----\n",
    "\n",
    "### Requirements\n",
    "\n",
    "We're looking to transform **tabs 1 and 2 only**.\n",
    "\n",
    "#### Observations & Dimensions\n",
    "\n",
    "The `observations` should be apparent.\n",
    "\n",
    "The required dimensions are:\n",
    "\n",
    "* **Geography** - it's all UK level data (the code for UK is \"K02000001\")\n",
    "* **Time** - either a simple year, or a year followed by a quarter, i.e \"2002 Q2\"\n",
    "* **Adjustment** - either seasonal or non-seasonal\n",
    "* **Business** - concatenation of rows 6-9 around hyphens. i.e 'Other New Work - Excluding Infrastructure - Private Commercial'\n",
    "* **CDID** - ONS specific 4 letter codes. Typically on row 10 \n",
    "\n",
    "-----\n",
    "Notes:\n",
    "\n",
    "* Getting the **Business** dimension cleanly is going to be tricky (read - cant see an obvious way to do it), I'd perhaps leave this one until last.\n",
    "* It's always worth getting the file out of /sources and having a look over.\n",
    "* You can't really take CDID as a dimension (dimension items needs to be repeating, not unqiue), it's a good exercise though as if doing this for real we'd likely be taking it as meta/supporting data."
   ]
  },
  {
   "cell_type": "code",
   "execution_count": 1,
   "metadata": {},
   "outputs": [
    {
     "output_type": "stream",
     "name": "stdout",
     "text": [
      "/workspace/mock-transformations\n"
     ]
    }
   ],
   "source": [
    "%cd mock-transformations/"
   ]
  },
  {
   "cell_type": "code",
   "execution_count": 3,
   "metadata": {},
   "outputs": [
    {
     "output_type": "stream",
     "name": "stdout",
     "text": [
      "Loading ./sources/OIC.xls which has size 759808 bytes\n",
      "Table names: ['Cover Sheet', 'Contents', 'Table 1a', 'Table 1b', 'Table 2a', 'Table 2b', 'Table 3a', 'Table 3b', 'Table 3c', 'Table 3d', 'Table 4', 'Table 4a', 'Table 5a', 'Table 5b', 'Table 6a', 'Table 7', 'Table 8', 'Table 9', 'Table 10', 'Table 11']\n"
     ]
    }
   ],
   "source": [
    "from databaker.framework import *\n",
    "import pandas as pd\n",
    "\n",
    "tabs = loadxlstabs(\"./sources/OIC.xls\") # load tabs"
   ]
  },
  {
   "source": [
    "# Thar be dragons\n",
    "The hierarchy associated with the Business sector and the CDID should be treated as a seperate transform, and then joined together at the end. This will make the transform simpler.\n",
    "\n",
    "## Transform steps\n",
    "1. Process headers as a dataset with the CDIDs as observations\n",
    "2. Process observations as a dataset with the CDIDs as a dimension\n",
    "3. Merge headers and observations on the CDIDs to create a new complete dataframe\n",
    "\n",
    "### Headers/Observations\n",
    "|       | Column A | Column B      | Column C  | Column D      |  Column E     |   Column F    |\n",
    "|-------|----------|---------------|-----------|---------------|---------------|---------------|\n",
    "| Row 1 | YYYY MMM | Category A    |           | Category B    |               | Category C    |\n",
    "| Row 2 | YYYY MMM | Subcategory 1 |           | Subcategory 2 | Subcategory 3 | Subcategory 4 |\n",
    "| Row 3 | YYYY MMM | Detail i      | Detail ii | Detail iii    | Detail iv     | Detail v      |\n",
    "| Row 4 | YYYY MMM | Code 1        | Code 2    | Code 3        | Code 4        | Code 5        |\n",
    "| Row 5 | YYYY MMM | OBS v         | OBS w     | OBS x         | OBS y         | OBS z         |\n",
    "\n",
    "* Codes 1 through 5 should be treated as the observations, and the Categories, Subcategories, Details should be treated as a dimension\n",
    "* The acutal Observations (Row 5 and below) should be lined with the CDID (e.g. Codes 1-5) and the dates.\n",
    "* Provide up-to three levels of business classification dimentions\n",
    "\n",
    "## Other notes\n",
    "* Units should be confirmed that these values are indexed to 2016=100."
   ],
   "cell_type": "markdown",
   "metadata": {}
  },
  {
   "cell_type": "code",
   "execution_count": 51,
   "metadata": {},
   "outputs": [],
   "source": [
    "def gen_CDID_df(tab) -> pd.DataFrame:\n",
    "    # We're futorunate that all the header information is the same\n",
    "    business_level1 = tab.excel_ref(\"C6\").expand(RIGHT).is_not_blank()\n",
    "    business_level2 = tab.excel_ref(\"C7\").expand(RIGHT).is_not_blank()\n",
    "    business_level3 = tab.excel_ref(\"C8\").expand(RIGHT).is_not_blank()\n",
    "\n",
    "    # These are the CDIDs\n",
    "    observations = tab.excel_ref(\"C10\").expand(RIGHT).is_not_blank()\n",
    "\n",
    "    dimensions = [HDim(business_level1, \"business_level1\", CLOSEST, LEFT),\n",
    "                  HDim(business_level2, \"business_level2\", CLOSEST, LEFT),\n",
    "                  HDim(business_level3, \"business_level3\", CLOSEST, LEFT)]\n",
    "    \n",
    "    raise NameError('This is probably broken, fix it.')\n",
    "    return ConversionSegment(tab, dimensions, observations).topandas()\n",
    "    # This is likely broken as the levels aren't closest left. Check the output\n",
    "    "
   ]
  },
  {
   "cell_type": "code",
   "execution_count": 52,
   "metadata": {},
   "outputs": [
    {
     "output_type": "error",
     "ename": "NameError",
     "evalue": "This is probably broken, fix it.",
     "traceback": [
      "\u001b[0;31m---------------------------------------------------------------------------\u001b[0m",
      "\u001b[0;31mNameError\u001b[0m                                 Traceback (most recent call last)",
      "\u001b[0;32m<ipython-input-52-22c330f169f3>\u001b[0m in \u001b[0;36m<module>\u001b[0;34m\u001b[0m\n\u001b[0;32m----> 1\u001b[0;31m \u001b[0mgen_CDID_df\u001b[0m\u001b[0;34m(\u001b[0m\u001b[0mtabs\u001b[0m\u001b[0;34m[\u001b[0m\u001b[0;36m3\u001b[0m\u001b[0;34m]\u001b[0m\u001b[0;34m)\u001b[0m\u001b[0;34m\u001b[0m\u001b[0;34m\u001b[0m\u001b[0m\n\u001b[0m",
      "\u001b[0;32m<ipython-input-51-7d081565c21f>\u001b[0m in \u001b[0;36mgen_CDID_df\u001b[0;34m(tab)\u001b[0m\n\u001b[1;32m     12\u001b[0m                   HDim(business_level3, \"business_level3\", CLOSEST, LEFT)]\n\u001b[1;32m     13\u001b[0m \u001b[0;34m\u001b[0m\u001b[0m\n\u001b[0;32m---> 14\u001b[0;31m     \u001b[0;32mraise\u001b[0m \u001b[0mNameError\u001b[0m\u001b[0;34m(\u001b[0m\u001b[0;34m'This is probably broken, fix it.'\u001b[0m\u001b[0;34m)\u001b[0m\u001b[0;34m\u001b[0m\u001b[0;34m\u001b[0m\u001b[0m\n\u001b[0m\u001b[1;32m     15\u001b[0m     \u001b[0;32mreturn\u001b[0m \u001b[0mConversionSegment\u001b[0m\u001b[0;34m(\u001b[0m\u001b[0mtab\u001b[0m\u001b[0;34m,\u001b[0m \u001b[0mdimensions\u001b[0m\u001b[0;34m,\u001b[0m \u001b[0mobservations\u001b[0m\u001b[0;34m)\u001b[0m\u001b[0;34m.\u001b[0m\u001b[0mtopandas\u001b[0m\u001b[0;34m(\u001b[0m\u001b[0;34m)\u001b[0m\u001b[0;34m\u001b[0m\u001b[0;34m\u001b[0m\u001b[0m\n\u001b[1;32m     16\u001b[0m     \u001b[0;31m# This is likely broken as the levels aren't closest left. Check the output\u001b[0m\u001b[0;34m\u001b[0m\u001b[0;34m\u001b[0m\u001b[0;34m\u001b[0m\u001b[0m\n",
      "\u001b[0;31mNameError\u001b[0m: This is probably broken, fix it."
     ]
    }
   ],
   "source": [
    "gen_CDID_df(tabs[3])"
   ]
  },
  {
   "cell_type": "code",
   "execution_count": 45,
   "metadata": {},
   "outputs": [],
   "source": [
    "def fetch_contents(tab) -> pd.DataFrame:\n",
    "    # Start of the CDIDs is the same throughout all the tabs\n",
    "    cdids = tab.excel_ref(\"C10\").expand(RIGHT).is_not_blank()\n",
    "\n",
    "    # There are up-to two levels of the time dimension\n",
    "    time_level1 = tab.excel_ref(\"A11\").expand(DOWN).is_not_blank()\n",
    "    time_level2 = tab.excel_ref(\"B11\").expand(DOWN)\n",
    "\n",
    "    # Put the 🍁 syrup away, no waffle here sadly\n",
    "    observations = tab.excel_ref(\"C11\").expand(DOWN).expand(RIGHT).is_not_blank()\n",
    "\n",
    "    dimensions = [HDim(time_level1, \"time_level1\", CLOSEST, ABOVE),\n",
    "                  HDim(time_level2, \"time_level2\", DIRECTLY, LEFT),\n",
    "                  HDim(cdids, \"CDIDs\", DIRECTLY, ABOVE),\n",
    "                  HDimConst(\"units\", tab.excel_ref(\"P5\").value)]\n",
    "    \n",
    "    return ConversionSegment(tab, dimensions, observations).topandas()"
   ]
  },
  {
   "cell_type": "code",
   "execution_count": 46,
   "metadata": {},
   "outputs": [
    {
     "output_type": "stream",
     "name": "stdout",
     "text": [
      "{<H10 'MV3N'>, <M10 'MV3S'>, <E10 'MVL8'>, <K10 'MV3Q'>, <F10 'MV3L'>, <D10 'MV3K'>, <J10 'MV3P'>, <L10 'MV3R'>, <G10 'MV3M'>, <N10 'MV3T'>, <O10 'MV3U'>, <C10 'MV3J'>, <P10 'MV3V'>, <I10 'MV3O'>}\n",
      "\n"
     ]
    },
    {
     "output_type": "execute_result",
     "data": {
      "text/plain": [
       "        OBS time_level1 time_level2 CDIDs     units\n",
       "0      38.9      1997.0              MV3J  2016=100\n",
       "1      52.7      1997.0              MV3K  2016=100\n",
       "2      50.8      1997.0              MVL8  2016=100\n",
       "3      69.0      1997.0              MV3L  2016=100\n",
       "4      49.3      1997.0              MV3M  2016=100\n",
       "...     ...         ...         ...   ...       ...\n",
       "3173  104.8      2019.0        July  MV3R  2016=100\n",
       "3174  103.5      2019.0        July  MV3S  2016=100\n",
       "3175  118.9      2019.0        July  MV3T  2016=100\n",
       "3176  110.9      2019.0        July  MV3U  2016=100\n",
       "3177  113.7      2019.0        July  MV3V  2016=100\n",
       "\n",
       "[3178 rows x 5 columns]"
      ],
      "text/html": "<div>\n<style scoped>\n    .dataframe tbody tr th:only-of-type {\n        vertical-align: middle;\n    }\n\n    .dataframe tbody tr th {\n        vertical-align: top;\n    }\n\n    .dataframe thead th {\n        text-align: right;\n    }\n</style>\n<table border=\"1\" class=\"dataframe\">\n  <thead>\n    <tr style=\"text-align: right;\">\n      <th></th>\n      <th>OBS</th>\n      <th>time_level1</th>\n      <th>time_level2</th>\n      <th>CDIDs</th>\n      <th>units</th>\n    </tr>\n  </thead>\n  <tbody>\n    <tr>\n      <th>0</th>\n      <td>38.9</td>\n      <td>1997.0</td>\n      <td></td>\n      <td>MV3J</td>\n      <td>2016=100</td>\n    </tr>\n    <tr>\n      <th>1</th>\n      <td>52.7</td>\n      <td>1997.0</td>\n      <td></td>\n      <td>MV3K</td>\n      <td>2016=100</td>\n    </tr>\n    <tr>\n      <th>2</th>\n      <td>50.8</td>\n      <td>1997.0</td>\n      <td></td>\n      <td>MVL8</td>\n      <td>2016=100</td>\n    </tr>\n    <tr>\n      <th>3</th>\n      <td>69.0</td>\n      <td>1997.0</td>\n      <td></td>\n      <td>MV3L</td>\n      <td>2016=100</td>\n    </tr>\n    <tr>\n      <th>4</th>\n      <td>49.3</td>\n      <td>1997.0</td>\n      <td></td>\n      <td>MV3M</td>\n      <td>2016=100</td>\n    </tr>\n    <tr>\n      <th>...</th>\n      <td>...</td>\n      <td>...</td>\n      <td>...</td>\n      <td>...</td>\n      <td>...</td>\n    </tr>\n    <tr>\n      <th>3173</th>\n      <td>104.8</td>\n      <td>2019.0</td>\n      <td>July</td>\n      <td>MV3R</td>\n      <td>2016=100</td>\n    </tr>\n    <tr>\n      <th>3174</th>\n      <td>103.5</td>\n      <td>2019.0</td>\n      <td>July</td>\n      <td>MV3S</td>\n      <td>2016=100</td>\n    </tr>\n    <tr>\n      <th>3175</th>\n      <td>118.9</td>\n      <td>2019.0</td>\n      <td>July</td>\n      <td>MV3T</td>\n      <td>2016=100</td>\n    </tr>\n    <tr>\n      <th>3176</th>\n      <td>110.9</td>\n      <td>2019.0</td>\n      <td>July</td>\n      <td>MV3U</td>\n      <td>2016=100</td>\n    </tr>\n    <tr>\n      <th>3177</th>\n      <td>113.7</td>\n      <td>2019.0</td>\n      <td>July</td>\n      <td>MV3V</td>\n      <td>2016=100</td>\n    </tr>\n  </tbody>\n</table>\n<p>3178 rows × 5 columns</p>\n</div>"
     },
     "metadata": {},
     "execution_count": 46
    }
   ],
   "source": [
    "fetch_contents((tabs[3]))"
   ]
  },
  {
   "cell_type": "code",
   "execution_count": null,
   "metadata": {},
   "outputs": [],
   "source": []
  }
 ],
 "metadata": {
  "kernelspec": {
   "display_name": "Python 3",
   "language": "python",
   "name": "python3"
  },
  "language_info": {
   "codemirror_mode": {
    "name": "ipython",
    "version": 3
   },
   "file_extension": ".py",
   "mimetype": "text/x-python",
   "name": "python",
   "nbconvert_exporter": "python",
   "pygments_lexer": "ipython3",
   "version": "3.8.2-final"
  }
 },
 "nbformat": 4,
 "nbformat_minor": 4
}