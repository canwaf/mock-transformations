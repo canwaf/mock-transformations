{
 "cells": [
  {
   "cell_type": "markdown",
   "metadata": {},
   "source": [
    "# ILCH (Index Of Labour Costs Per Hour) - Growth\n",
    "\n",
    "-----\n",
    "\n",
    "### Requirements\n",
    "\n",
    "We need to make a dataset from two input sources, the sa (seasonal adjusted) and nsa (non seasonally adjusted) input.\n",
    "excels.\n",
    "\n",
    "Use and combine tabs 3,4,5  & 6 from **both** sources.\n",
    "\n",
    "#### Observations & Dimensions\n",
    "\n",
    "The `observations` should be apparent.\n",
    "\n",
    "The required dimensions are:\n",
    "\n",
    "* **Geography** - it's all UK level data (the code for UK is \"K02000001\")\n",
    "* **Time** - either a year, or year & quarter in the format YYYY QQ\n",
    "* **Seasonal Adjustment** - either \"Seasonally Adjusted\" or \"Non Seasonaly Adjusted\"\n",
    "* **Growth Type** - either \"quarter on quarter\" or \"year on year\" \n",
    "* **Labour** - one of \"Labour Costs per Hour\", \"Wage Costs per Hour\", \"Other Costs per Hour\" \"Labour Costs per Hour Excluding Bonuses and Arrears\"\n",
    "\n",
    "* **Indicator**  - the big merged cells, e.g \"ILCH_A\n",
    "Agriculture, Forestry and Fishing\" etc\n",
    "\n",
    "\n",
    "-----\n",
    "    \n",
    "Notes:\n",
    "\n",
    "It's always worth getting the file out of /sources and having a look over."
   ]
  },
  {
   "cell_type": "code",
   "execution_count": 1,
   "metadata": {},
   "outputs": [
    {
     "output_type": "stream",
     "name": "stdout",
     "text": [
      "/workspace/mock-transformations\n"
     ]
    }
   ],
   "source": [
    "%cd mock-transformations/"
   ]
  },
  {
   "cell_type": "code",
   "execution_count": 2,
   "metadata": {},
   "outputs": [],
   "source": [
    "from databaker.framework import *\n",
    "import pandas as pd\n",
    "import numpy as np"
   ]
  },
  {
   "cell_type": "code",
   "execution_count": 3,
   "metadata": {},
   "outputs": [
    {
     "output_type": "stream",
     "name": "stdout",
     "text": [
      "Loading ./sources/ilchtablestemplatesa.xls which has size 437248 bytes\n",
      "Table names: ['INTRODUCTION', 'DEFINITIONS', '1. Industry index SA', '2. Sector index SA', '3. Industry annual growth SA', '4. Sector annual growth SA', '5. Industry quarterly growth SA', '6. Sector quarterly growth SA', '7. Industry costs SA', '8. Sector costs SA']\n"
     ]
    }
   ],
   "source": [
    "# the Seasonally Adjusted Tabs\n",
    "sa_tabs = loadxlstabs(\"./sources/ilchtablestemplatesa.xls\")"
   ]
  },
  {
   "cell_type": "code",
   "execution_count": 4,
   "metadata": {},
   "outputs": [
    {
     "output_type": "stream",
     "name": "stdout",
     "text": [
      "Loading ./sources/ilchtablestemplatensa.xls which has size 297984 bytes\n",
      "Table names: ['INTRODUCTION', 'DEFINITIONS', '1. Industry index', '2. Sector index', '3. Industry growth rates', '4. Sector growth rates', '5. Industry costs', '6. Sector costs']\n"
     ]
    }
   ],
   "source": [
    "\n",
    "# the None Seasonally Adjusted Tabs\n",
    "nsa_tabs = loadxlstabs(\"./sources/ilchtablestemplatensa.xls\")"
   ]
  },
  {
   "cell_type": "code",
   "execution_count": 5,
   "metadata": {},
   "outputs": [],
   "source": [
    "def ilch_rip(tab: xypath.xypath.Table) -> pd.DataFrame:\n",
    "    geography = 'K02000001'\n",
    "    time = tab.excel_ref('A7').expand(DOWN)\n",
    "    indicator = tab.excel_ref('B5').expand(RIGHT).is_not_blank()\n",
    "    labour = tab.excel_ref('B6').expand(RIGHT)\n",
    "\n",
    "    if 'SA' in tab.name:\n",
    "        seasonal_adjustment = 'Seasonally Adjusted'\n",
    "    else:\n",
    "        seasonal_adjustment = 'Non Seasonally Adjusted'\n",
    "\n",
    "    if 'annual growth' in tab.name:\n",
    "        growth_type = 'year on year'\n",
    "    elif 'quarterly growth' in tab.name:\n",
    "        growth_type = 'quarter on quarter'\n",
    "    else:\n",
    "        growth_type = np.nan\n",
    "    \n",
    "    dimensions = [HDimConst('Geography', geography),\n",
    "                  HDimConst('Seasonal Adjustment', seasonal_adjustment),\n",
    "                  HDimConst('Growth Type', growth_type),\n",
    "                  HDim(indicator, 'Indicator', CLOSEST, LEFT),\n",
    "                  HDim(labour, 'Labour', DIRECTLY, ABOVE),\n",
    "                  HDim(time, 'Time', DIRECTLY, LEFT)]\n",
    "    \n",
    "    observations = time.waffle(labour).is_not_blank()\n",
    "\n",
    "    return ConversionSegment(tab, dimensions, observations).topandas()"
   ]
  },
  {
   "cell_type": "code",
   "execution_count": 6,
   "metadata": {},
   "outputs": [
    {
     "output_type": "stream",
     "name": "stdout",
     "text": [
      "\n",
      "\n",
      "\n"
     ]
    }
   ],
   "source": [
    "# Now we build it\n",
    "work = list()\n",
    "for tab in sa_tabs + nsa_tabs:\n",
    "    if tab.name[:1] in ['3','4','5','6']:\n",
    "        work.append(ilch_rip(tab))"
   ]
  },
  {
   "cell_type": "code",
   "execution_count": 7,
   "metadata": {},
   "outputs": [],
   "source": [
    "# Join it\n",
    "output = pd.concat(work, axis=0, ignore_index=True)"
   ]
  },
  {
   "cell_type": "code",
   "execution_count": 14,
   "metadata": {},
   "outputs": [],
   "source": [
    "# Cleanse it\n",
    "output['Indicator'].replace(r'\\n', ' ', inplace=True, regex=True)\n",
    "output.loc[output['Time'].str.len() > 5, 'Time'] = output['Time'].str[:6]"
   ]
  },
  {
   "cell_type": "code",
   "execution_count": 15,
   "metadata": {},
   "outputs": [
    {
     "output_type": "execute_result",
     "data": {
      "text/plain": [
       "        OBS  Geography      Seasonal Adjustment   Growth Type  \\\n",
       "0      16.8  K02000001      Seasonally Adjusted  year on year   \n",
       "1      17.7  K02000001      Seasonally Adjusted  year on year   \n",
       "2       9.7  K02000001      Seasonally Adjusted  year on year   \n",
       "3      15.7  K02000001      Seasonally Adjusted  year on year   \n",
       "4      19.7  K02000001      Seasonally Adjusted  year on year   \n",
       "...     ...        ...                      ...           ...   \n",
       "34183  19.2  K02000001  Non Seasonally Adjusted           NaN   \n",
       "34184  14.3  K02000001  Non Seasonally Adjusted           NaN   \n",
       "34185  12.6  K02000001  Non Seasonally Adjusted           NaN   \n",
       "34186   1.7  K02000001  Non Seasonally Adjusted           NaN   \n",
       "34187  13.4  K02000001  Non Seasonally Adjusted           NaN   \n",
       "\n",
       "                                         Indicator  \\\n",
       "0         ILCH_A Agriculture, Forestry and Fishing   \n",
       "1         ILCH_A Agriculture, Forestry and Fishing   \n",
       "2         ILCH_A Agriculture, Forestry and Fishing   \n",
       "3         ILCH_A Agriculture, Forestry and Fishing   \n",
       "4                      ILCH_B Mining and Quarrying   \n",
       "...                                            ...   \n",
       "34183                                 Construction   \n",
       "34184  Wholesaling, Retailing, Hotels& Restaurants   \n",
       "34185  Wholesaling, Retailing, Hotels& Restaurants   \n",
       "34186  Wholesaling, Retailing, Hotels& Restaurants   \n",
       "34187  Wholesaling, Retailing, Hotels& Restaurants   \n",
       "\n",
       "                                                  Labour    Time  \n",
       "0                                  Labour Costs per Hour  2001Q1  \n",
       "1                                    Wage Costs per Hour  2001Q1  \n",
       "2                                   Other Costs per Hour  2001Q1  \n",
       "3      Labour Costs per Hour Excluding Bonuses and Ar...  2001Q1  \n",
       "4                                  Labour Costs per Hour  2001Q1  \n",
       "...                                                  ...     ...  \n",
       "34183  Labour Costs per Hour Excluding Bonuses and Ar...  2019Q2  \n",
       "34184                              Labour Costs per Hour  2019Q2  \n",
       "34185                                Wage Costs per Hour  2019Q2  \n",
       "34186                               Other Costs per Hour  2019Q2  \n",
       "34187  Labour Costs per Hour Excluding Bonuses and Ar...  2019Q2  \n",
       "\n",
       "[34188 rows x 7 columns]"
      ],
      "text/html": "<div>\n<style scoped>\n    .dataframe tbody tr th:only-of-type {\n        vertical-align: middle;\n    }\n\n    .dataframe tbody tr th {\n        vertical-align: top;\n    }\n\n    .dataframe thead th {\n        text-align: right;\n    }\n</style>\n<table border=\"1\" class=\"dataframe\">\n  <thead>\n    <tr style=\"text-align: right;\">\n      <th></th>\n      <th>OBS</th>\n      <th>Geography</th>\n      <th>Seasonal Adjustment</th>\n      <th>Growth Type</th>\n      <th>Indicator</th>\n      <th>Labour</th>\n      <th>Time</th>\n    </tr>\n  </thead>\n  <tbody>\n    <tr>\n      <th>0</th>\n      <td>16.8</td>\n      <td>K02000001</td>\n      <td>Seasonally Adjusted</td>\n      <td>year on year</td>\n      <td>ILCH_A Agriculture, Forestry and Fishing</td>\n      <td>Labour Costs per Hour</td>\n      <td>2001Q1</td>\n    </tr>\n    <tr>\n      <th>1</th>\n      <td>17.7</td>\n      <td>K02000001</td>\n      <td>Seasonally Adjusted</td>\n      <td>year on year</td>\n      <td>ILCH_A Agriculture, Forestry and Fishing</td>\n      <td>Wage Costs per Hour</td>\n      <td>2001Q1</td>\n    </tr>\n    <tr>\n      <th>2</th>\n      <td>9.7</td>\n      <td>K02000001</td>\n      <td>Seasonally Adjusted</td>\n      <td>year on year</td>\n      <td>ILCH_A Agriculture, Forestry and Fishing</td>\n      <td>Other Costs per Hour</td>\n      <td>2001Q1</td>\n    </tr>\n    <tr>\n      <th>3</th>\n      <td>15.7</td>\n      <td>K02000001</td>\n      <td>Seasonally Adjusted</td>\n      <td>year on year</td>\n      <td>ILCH_A Agriculture, Forestry and Fishing</td>\n      <td>Labour Costs per Hour Excluding Bonuses and Ar...</td>\n      <td>2001Q1</td>\n    </tr>\n    <tr>\n      <th>4</th>\n      <td>19.7</td>\n      <td>K02000001</td>\n      <td>Seasonally Adjusted</td>\n      <td>year on year</td>\n      <td>ILCH_B Mining and Quarrying</td>\n      <td>Labour Costs per Hour</td>\n      <td>2001Q1</td>\n    </tr>\n    <tr>\n      <th>...</th>\n      <td>...</td>\n      <td>...</td>\n      <td>...</td>\n      <td>...</td>\n      <td>...</td>\n      <td>...</td>\n      <td>...</td>\n    </tr>\n    <tr>\n      <th>34183</th>\n      <td>19.2</td>\n      <td>K02000001</td>\n      <td>Non Seasonally Adjusted</td>\n      <td>NaN</td>\n      <td>Construction</td>\n      <td>Labour Costs per Hour Excluding Bonuses and Ar...</td>\n      <td>2019Q2</td>\n    </tr>\n    <tr>\n      <th>34184</th>\n      <td>14.3</td>\n      <td>K02000001</td>\n      <td>Non Seasonally Adjusted</td>\n      <td>NaN</td>\n      <td>Wholesaling, Retailing, Hotels&amp; Restaurants</td>\n      <td>Labour Costs per Hour</td>\n      <td>2019Q2</td>\n    </tr>\n    <tr>\n      <th>34185</th>\n      <td>12.6</td>\n      <td>K02000001</td>\n      <td>Non Seasonally Adjusted</td>\n      <td>NaN</td>\n      <td>Wholesaling, Retailing, Hotels&amp; Restaurants</td>\n      <td>Wage Costs per Hour</td>\n      <td>2019Q2</td>\n    </tr>\n    <tr>\n      <th>34186</th>\n      <td>1.7</td>\n      <td>K02000001</td>\n      <td>Non Seasonally Adjusted</td>\n      <td>NaN</td>\n      <td>Wholesaling, Retailing, Hotels&amp; Restaurants</td>\n      <td>Other Costs per Hour</td>\n      <td>2019Q2</td>\n    </tr>\n    <tr>\n      <th>34187</th>\n      <td>13.4</td>\n      <td>K02000001</td>\n      <td>Non Seasonally Adjusted</td>\n      <td>NaN</td>\n      <td>Wholesaling, Retailing, Hotels&amp; Restaurants</td>\n      <td>Labour Costs per Hour Excluding Bonuses and Ar...</td>\n      <td>2019Q2</td>\n    </tr>\n  </tbody>\n</table>\n<p>34188 rows × 7 columns</p>\n</div>"
     },
     "metadata": {},
     "execution_count": 15
    }
   ],
   "source": [
    "output"
   ]
  },
  {
   "cell_type": "code",
   "execution_count": null,
   "metadata": {},
   "outputs": [],
   "source": []
  }
 ],
 "metadata": {
  "kernelspec": {
   "display_name": "Python 3",
   "language": "python",
   "name": "python3"
  },
  "language_info": {
   "codemirror_mode": {
    "name": "ipython",
    "version": 3
   },
   "file_extension": ".py",
   "mimetype": "text/x-python",
   "name": "python",
   "nbconvert_exporter": "python",
   "pygments_lexer": "ipython3",
   "version": "3.8.2-final"
  }
 },
 "nbformat": 4,
 "nbformat_minor": 4
}