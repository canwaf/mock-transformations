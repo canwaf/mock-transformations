{
 "cells": [
  {
   "cell_type": "markdown",
   "metadata": {},
   "source": [
    "# Tourism\n",
    "\n",
    "-----\n",
    "\n",
    "### Requirements\n",
    "\n",
    "Extract the data from tab 2 and tab 4.\n",
    "\n",
    "#### Observations & Dimensions\n",
    "\n",
    "For `observations` we want the `purpose` data, we **dont** want the `all visits`.\n",
    "\n",
    "\n",
    "The required dimensions are:\n",
    "\n",
    "* **Geography** - it's all UK level data (the code for UK is \"K02000001\")\n",
    "* **Time** - in the format MMM YYYY\n",
    "* **Purpose** - one of Holiday, Business, Visiting friends or relatives, Miscellaneous\n",
    "* **Direction of Travel** - either \"overseas visits to the uk\", or \"uk visits abroad\"\n",
    "* **Units** - constant value of '1000'\n",
    "\n",
    "-----\n",
    "Notes:\n",
    "\n",
    "* We dont want the data markings against 2019 dates\n",
    "* We don't want the ad hoc summary data at the bottom , \"latest three months..\" etc"
   ]
  },
  {
   "cell_type": "code",
   "execution_count": 13,
   "metadata": {},
   "outputs": [
    {
     "output_type": "stream",
     "name": "stdout",
     "text": [
      "[Errno 2] No such file or directory: 'mock-transformations/'\n/workspace/mock-transformations\n"
     ]
    }
   ],
   "source": [
    "%cd mock-transformations/"
   ]
  },
  {
   "cell_type": "code",
   "execution_count": 14,
   "metadata": {},
   "outputs": [
    {
     "output_type": "stream",
     "name": "stdout",
     "text": [
      "Loading ./sources/tourism.xls which has size 180736 bytes\nTable names: ['Index', 'Table 1', 'Table 2', 'Table 3', 'Table 4', 'Table 5', 'Table 6']\n"
     ]
    }
   ],
   "source": [
    "from databaker.framework import *\n",
    "import pandas as pd\n",
    "\n",
    "tabs = loadxlstabs(\"./sources/tourism.xls\") # load tabs"
   ]
  },
  {
   "cell_type": "code",
   "execution_count": 15,
   "metadata": {},
   "outputs": [],
   "source": [
    "work = []"
   ]
  },
  {
   "cell_type": "code",
   "execution_count": 16,
   "metadata": {},
   "outputs": [
    {
     "output_type": "stream",
     "name": "stdout",
     "text": [
      "😍 Table 2\n",
      "\n",
      "😍 Table 4\n",
      "\n"
     ]
    }
   ],
   "source": [
    "for tab in tabs:\n",
    "    if tab.name not in [\"Table 2\", \"Table 4\"]:\n",
    "        continue\n",
    "    else:\n",
    "        print(\"😍 \" + tab.name)\n",
    "\n",
    "    # Dimension Direction of Travel is the header of the report\n",
    "    direction = tab.excel_ref(\"B1\")\n",
    "    # Dimension Geography is a hard string\n",
    "    geography = \"K02000001\"\n",
    "    # Units are 1000 counts\n",
    "    units = \"thousands\"\n",
    "    # Dimension Time is format MMM YYYY (Will require some pandas transform)\n",
    "    # For the year CLOSEST UP\n",
    "    year = tab.excel_ref(\"A7\").expand(DOWN).is_not_blank()\n",
    "    # For the month DIRECT LEFT\n",
    "    month = tab.excel_ref(\"B7\").expand(DOWN).is_not_blank()\n",
    "    # Dimension Purpose DIRECT UP\n",
    "    purpose = tab.excel_ref(\"G4\").expand(RIGHT).is_not_blank()\n",
    "    # observations are waffle\n",
    "    observations = month.waffle(purpose)\n",
    "\n",
    "    dimensions = [HDimConst(\"Geography\", geography),\n",
    "                  HDimConst(\"Units\", units),\n",
    "                  HDimConst(\"Direction\", direction.value),\n",
    "                  HDim(year, \"Year\", CLOSEST, UP),\n",
    "                  HDim(month, \"Month\", DIRECTLY, LEFT),\n",
    "                  HDim(purpose, \"Purpose\", DIRECTLY, ABOVE)]\n",
    "\n",
    "    df = ConversionSegment(tab, dimensions, observations).topandas()\n",
    "\n",
    "    work.append(df)"
   ]
  },
  {
   "cell_type": "code",
   "execution_count": 17,
   "metadata": {},
   "outputs": [],
   "source": [
    "output = pd.concat(work)"
   ]
  },
  {
   "cell_type": "code",
   "execution_count": 18,
   "metadata": {},
   "outputs": [
    {
     "output_type": "execute_result",
     "data": {
      "text/plain": [
       "             OBS  Geography      Units  \\\n",
       "0     662.512925  K02000001  thousands   \n",
       "1     688.776441  K02000001  thousands   \n",
       "2     899.146350  K02000001  thousands   \n",
       "3     168.449570  K02000001  thousands   \n",
       "4     639.824439  K02000001  thousands   \n",
       "..           ...        ...        ...   \n",
       "211   120.000000  K02000001  thousands   \n",
       "212  4850.000000  K02000001  thousands   \n",
       "213   610.000000  K02000001  thousands   \n",
       "214  1240.000000  K02000001  thousands   \n",
       "215   140.000000  K02000001  thousands   \n",
       "\n",
       "                                             Direction    Year  Month  \\\n",
       "0    Purpose of overseas residents' visits to the U...  2015.0    Jan   \n",
       "1    Purpose of overseas residents' visits to the U...  2015.0    Jan   \n",
       "2    Purpose of overseas residents' visits to the U...  2015.0    Jan   \n",
       "3    Purpose of overseas residents' visits to the U...  2015.0    Jan   \n",
       "4    Purpose of overseas residents' visits to the U...  2015.0    Feb   \n",
       "..                                                 ...     ...    ...   \n",
       "211    Purpose of UK residents' visits abroad by month  2019.0   May¹   \n",
       "212    Purpose of UK residents' visits abroad by month  2019.0  June¹   \n",
       "213    Purpose of UK residents' visits abroad by month  2019.0  June¹   \n",
       "214    Purpose of UK residents' visits abroad by month  2019.0  June¹   \n",
       "215    Purpose of UK residents' visits abroad by month  2019.0  June¹   \n",
       "\n",
       "                           Purpose  \n",
       "0                          Holiday  \n",
       "1                         Business  \n",
       "2    Visiting friends or relatives  \n",
       "3                    Miscellaneous  \n",
       "4                          Holiday  \n",
       "..                             ...  \n",
       "211                  Miscellaneous  \n",
       "212                        Holiday  \n",
       "213                       Business  \n",
       "214  Visiting friends or relatives  \n",
       "215                  Miscellaneous  \n",
       "\n",
       "[432 rows x 7 columns]"
      ],
      "text/html": "<div>\n<style scoped>\n    .dataframe tbody tr th:only-of-type {\n        vertical-align: middle;\n    }\n\n    .dataframe tbody tr th {\n        vertical-align: top;\n    }\n\n    .dataframe thead th {\n        text-align: right;\n    }\n</style>\n<table border=\"1\" class=\"dataframe\">\n  <thead>\n    <tr style=\"text-align: right;\">\n      <th></th>\n      <th>OBS</th>\n      <th>Geography</th>\n      <th>Units</th>\n      <th>Direction</th>\n      <th>Year</th>\n      <th>Month</th>\n      <th>Purpose</th>\n    </tr>\n  </thead>\n  <tbody>\n    <tr>\n      <th>0</th>\n      <td>662.512925</td>\n      <td>K02000001</td>\n      <td>thousands</td>\n      <td>Purpose of overseas residents' visits to the U...</td>\n      <td>2015.0</td>\n      <td>Jan</td>\n      <td>Holiday</td>\n    </tr>\n    <tr>\n      <th>1</th>\n      <td>688.776441</td>\n      <td>K02000001</td>\n      <td>thousands</td>\n      <td>Purpose of overseas residents' visits to the U...</td>\n      <td>2015.0</td>\n      <td>Jan</td>\n      <td>Business</td>\n    </tr>\n    <tr>\n      <th>2</th>\n      <td>899.146350</td>\n      <td>K02000001</td>\n      <td>thousands</td>\n      <td>Purpose of overseas residents' visits to the U...</td>\n      <td>2015.0</td>\n      <td>Jan</td>\n      <td>Visiting friends or relatives</td>\n    </tr>\n    <tr>\n      <th>3</th>\n      <td>168.449570</td>\n      <td>K02000001</td>\n      <td>thousands</td>\n      <td>Purpose of overseas residents' visits to the U...</td>\n      <td>2015.0</td>\n      <td>Jan</td>\n      <td>Miscellaneous</td>\n    </tr>\n    <tr>\n      <th>4</th>\n      <td>639.824439</td>\n      <td>K02000001</td>\n      <td>thousands</td>\n      <td>Purpose of overseas residents' visits to the U...</td>\n      <td>2015.0</td>\n      <td>Feb</td>\n      <td>Holiday</td>\n    </tr>\n    <tr>\n      <th>...</th>\n      <td>...</td>\n      <td>...</td>\n      <td>...</td>\n      <td>...</td>\n      <td>...</td>\n      <td>...</td>\n      <td>...</td>\n    </tr>\n    <tr>\n      <th>211</th>\n      <td>120.000000</td>\n      <td>K02000001</td>\n      <td>thousands</td>\n      <td>Purpose of UK residents' visits abroad by month</td>\n      <td>2019.0</td>\n      <td>May¹</td>\n      <td>Miscellaneous</td>\n    </tr>\n    <tr>\n      <th>212</th>\n      <td>4850.000000</td>\n      <td>K02000001</td>\n      <td>thousands</td>\n      <td>Purpose of UK residents' visits abroad by month</td>\n      <td>2019.0</td>\n      <td>June¹</td>\n      <td>Holiday</td>\n    </tr>\n    <tr>\n      <th>213</th>\n      <td>610.000000</td>\n      <td>K02000001</td>\n      <td>thousands</td>\n      <td>Purpose of UK residents' visits abroad by month</td>\n      <td>2019.0</td>\n      <td>June¹</td>\n      <td>Business</td>\n    </tr>\n    <tr>\n      <th>214</th>\n      <td>1240.000000</td>\n      <td>K02000001</td>\n      <td>thousands</td>\n      <td>Purpose of UK residents' visits abroad by month</td>\n      <td>2019.0</td>\n      <td>June¹</td>\n      <td>Visiting friends or relatives</td>\n    </tr>\n    <tr>\n      <th>215</th>\n      <td>140.000000</td>\n      <td>K02000001</td>\n      <td>thousands</td>\n      <td>Purpose of UK residents' visits abroad by month</td>\n      <td>2019.0</td>\n      <td>June¹</td>\n      <td>Miscellaneous</td>\n    </tr>\n  </tbody>\n</table>\n<p>432 rows × 7 columns</p>\n</div>"
     },
     "metadata": {},
     "execution_count": 18
    }
   ],
   "source": [
    "output"
   ]
  },
  {
   "cell_type": "code",
   "execution_count": 19,
   "metadata": {},
   "outputs": [],
   "source": [
    "output[\"Direction\"].replace({\"Purpose of overseas residents' visits to the UK by month\": \"Overseas visits to the UK\",\n",
    "                             \"Purpose of UK residents' visits abroad by month\": \"UK visits abroad\"},\n",
    "                             inplace=True)"
   ]
  },
  {
   "cell_type": "code",
   "execution_count": 28,
   "metadata": {},
   "outputs": [],
   "source": [
    "# Time dimension\n",
    "output[\"Month\"] = output[\"Month\"].str[:3]\n",
    "output[\"Year\"] = output[\"Year\"].astype(float).astype(int).astype(str)\n",
    "output[\"Time\"] = output[\"Month\"] + \" \" + output[\"Year\"]\n",
    "output.drop(columns=[\"Month\", \"Year\"], inplace=True)"
   ]
  },
  {
   "cell_type": "code",
   "execution_count": 29,
   "metadata": {},
   "outputs": [
    {
     "output_type": "execute_result",
     "data": {
      "text/plain": [
       "             OBS  Geography      Units                  Direction  \\\n",
       "0     662.512925  K02000001  thousands  Overseas visits to the UK   \n",
       "1     688.776441  K02000001  thousands  Overseas visits to the UK   \n",
       "2     899.146350  K02000001  thousands  Overseas visits to the UK   \n",
       "3     168.449570  K02000001  thousands  Overseas visits to the UK   \n",
       "4     639.824439  K02000001  thousands  Overseas visits to the UK   \n",
       "..           ...        ...        ...                        ...   \n",
       "211   120.000000  K02000001  thousands           UK visits abroad   \n",
       "212  4850.000000  K02000001  thousands           UK visits abroad   \n",
       "213   610.000000  K02000001  thousands           UK visits abroad   \n",
       "214  1240.000000  K02000001  thousands           UK visits abroad   \n",
       "215   140.000000  K02000001  thousands           UK visits abroad   \n",
       "\n",
       "                           Purpose      Time  \n",
       "0                          Holiday  Jan 2015  \n",
       "1                         Business  Jan 2015  \n",
       "2    Visiting friends or relatives  Jan 2015  \n",
       "3                    Miscellaneous  Jan 2015  \n",
       "4                          Holiday  Feb 2015  \n",
       "..                             ...       ...  \n",
       "211                  Miscellaneous  May 2019  \n",
       "212                        Holiday  Jun 2019  \n",
       "213                       Business  Jun 2019  \n",
       "214  Visiting friends or relatives  Jun 2019  \n",
       "215                  Miscellaneous  Jun 2019  \n",
       "\n",
       "[432 rows x 6 columns]"
      ],
      "text/html": "<div>\n<style scoped>\n    .dataframe tbody tr th:only-of-type {\n        vertical-align: middle;\n    }\n\n    .dataframe tbody tr th {\n        vertical-align: top;\n    }\n\n    .dataframe thead th {\n        text-align: right;\n    }\n</style>\n<table border=\"1\" class=\"dataframe\">\n  <thead>\n    <tr style=\"text-align: right;\">\n      <th></th>\n      <th>OBS</th>\n      <th>Geography</th>\n      <th>Units</th>\n      <th>Direction</th>\n      <th>Purpose</th>\n      <th>Time</th>\n    </tr>\n  </thead>\n  <tbody>\n    <tr>\n      <th>0</th>\n      <td>662.512925</td>\n      <td>K02000001</td>\n      <td>thousands</td>\n      <td>Overseas visits to the UK</td>\n      <td>Holiday</td>\n      <td>Jan 2015</td>\n    </tr>\n    <tr>\n      <th>1</th>\n      <td>688.776441</td>\n      <td>K02000001</td>\n      <td>thousands</td>\n      <td>Overseas visits to the UK</td>\n      <td>Business</td>\n      <td>Jan 2015</td>\n    </tr>\n    <tr>\n      <th>2</th>\n      <td>899.146350</td>\n      <td>K02000001</td>\n      <td>thousands</td>\n      <td>Overseas visits to the UK</td>\n      <td>Visiting friends or relatives</td>\n      <td>Jan 2015</td>\n    </tr>\n    <tr>\n      <th>3</th>\n      <td>168.449570</td>\n      <td>K02000001</td>\n      <td>thousands</td>\n      <td>Overseas visits to the UK</td>\n      <td>Miscellaneous</td>\n      <td>Jan 2015</td>\n    </tr>\n    <tr>\n      <th>4</th>\n      <td>639.824439</td>\n      <td>K02000001</td>\n      <td>thousands</td>\n      <td>Overseas visits to the UK</td>\n      <td>Holiday</td>\n      <td>Feb 2015</td>\n    </tr>\n    <tr>\n      <th>...</th>\n      <td>...</td>\n      <td>...</td>\n      <td>...</td>\n      <td>...</td>\n      <td>...</td>\n      <td>...</td>\n    </tr>\n    <tr>\n      <th>211</th>\n      <td>120.000000</td>\n      <td>K02000001</td>\n      <td>thousands</td>\n      <td>UK visits abroad</td>\n      <td>Miscellaneous</td>\n      <td>May 2019</td>\n    </tr>\n    <tr>\n      <th>212</th>\n      <td>4850.000000</td>\n      <td>K02000001</td>\n      <td>thousands</td>\n      <td>UK visits abroad</td>\n      <td>Holiday</td>\n      <td>Jun 2019</td>\n    </tr>\n    <tr>\n      <th>213</th>\n      <td>610.000000</td>\n      <td>K02000001</td>\n      <td>thousands</td>\n      <td>UK visits abroad</td>\n      <td>Business</td>\n      <td>Jun 2019</td>\n    </tr>\n    <tr>\n      <th>214</th>\n      <td>1240.000000</td>\n      <td>K02000001</td>\n      <td>thousands</td>\n      <td>UK visits abroad</td>\n      <td>Visiting friends or relatives</td>\n      <td>Jun 2019</td>\n    </tr>\n    <tr>\n      <th>215</th>\n      <td>140.000000</td>\n      <td>K02000001</td>\n      <td>thousands</td>\n      <td>UK visits abroad</td>\n      <td>Miscellaneous</td>\n      <td>Jun 2019</td>\n    </tr>\n  </tbody>\n</table>\n<p>432 rows × 6 columns</p>\n</div>"
     },
     "metadata": {},
     "execution_count": 29
    }
   ],
   "source": [
    "output"
   ]
  },
  {
   "cell_type": "code",
   "execution_count": null,
   "metadata": {},
   "outputs": [],
   "source": []
  }
 ],
 "metadata": {
  "kernelspec": {
   "display_name": "Python 3",
   "language": "python",
   "name": "python3"
  },
  "language_info": {
   "codemirror_mode": {
    "name": "ipython",
    "version": 3
   },
   "file_extension": ".py",
   "mimetype": "text/x-python",
   "name": "python",
   "nbconvert_exporter": "python",
   "pygments_lexer": "ipython3",
   "version": "3.8.2-final"
  }
 },
 "nbformat": 4,
 "nbformat_minor": 4
}