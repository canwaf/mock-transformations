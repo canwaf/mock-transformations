{
 "cells": [
  {
   "cell_type": "markdown",
   "metadata": {},
   "source": [
    "# Small Area Population Estimates\n",
    "\n",
    "\n",
    "**NOTE - this is a big for a git repo, you'll need to download the following and uninstall into /sources**\n",
    "`https://www.ons.gov.uk/file?uri=/peoplepopulationandcommunity/populationandmigration/populationestimates/datasets/lowersuperoutputareamidyearpopulationestimates/mid2017/sape20dt1mid2017lsoasyoaestimatesformatted.zip`\n",
    "\n",
    "### Requirements\n",
    "\n",
    "Extract tabs, Mid-2017 Persons, Mid-2017 Male, Mid-2017 Female\n",
    "\n",
    "#### Observations & Dimensions\n",
    "\n",
    "The `observations` should be apparent.\n",
    "\n",
    "The required dimensions are:\n",
    "\n",
    "* **Geography** - take this from \"area codes\"\n",
    "* **Time** - get the time from laarge bol\n",
    "* **Age** - \"All Ages\" as well as all the bolded numbers to the right\n",
    "* **Gender** - from the tab name\n",
    "\n",
    "-----\n",
    "Notes:\n",
    "\n",
    "* Haven't tried it but it's very likely (read: is) too big for databaker. You'll need to use pandas directly."
   ]
  },
  {
   "cell_type": "code",
   "execution_count": 1,
   "metadata": {},
   "outputs": [
    {
     "output_type": "stream",
     "name": "stdout",
     "text": [
      "/workspace/mock-transformations\n"
     ]
    }
   ],
   "source": [
    "%cd mock-transformations/"
   ]
  },
  {
   "cell_type": "code",
   "execution_count": 2,
   "metadata": {},
   "outputs": [],
   "source": [
    "import pandas as pd\n",
    "import numpy as np\n",
    "\n",
    "file_path = \"./sources/SAPE20DT1-mid-2017-lsoa-syoa-estimates-formatted.XLS\""
   ]
  },
  {
   "cell_type": "code",
   "execution_count": 3,
   "metadata": {},
   "outputs": [],
   "source": [
    "work = list()\n",
    "tabs = {\"Mid-2017 Persons\": \"All\",\n",
    "        \"Mid-2017 Females\": \"Females\",\n",
    "        \"Mid-2017 Males\": \"Males\"}"
   ]
  },
  {
   "cell_type": "code",
   "execution_count": 4,
   "metadata": {},
   "outputs": [],
   "source": [
    "# Data range is A5:CQ35106 for each spreadsheet, convenient\n",
    "for tab_name, gender in tabs.items():\n",
    "    df = pd.read_excel(io=file_path, sheet_name=tab_name, header=4, index_col=0)\n",
    "    # drop the data we don't want, no point keeping it\n",
    "    df.drop(labels=['Area Names', 'Unnamed: 2'], axis=1, inplace=True)\n",
    "    # Add a multiindex for the gender information, this will be useful later\n",
    "    df.columns = pd.MultiIndex.from_product([[gender], df.columns])\n",
    "    work.append(df)"
   ]
  },
  {
   "cell_type": "code",
   "execution_count": 14,
   "metadata": {},
   "outputs": [],
   "source": [
    "# Join the dataframes, unstack, and reset index\n",
    "output = pd.concat(work, axis=1, join='inner').unstack().reset_index()"
   ]
  },
  {
   "cell_type": "code",
   "execution_count": 15,
   "metadata": {},
   "outputs": [],
   "source": [
    "# Name those columns\n",
    "output.columns = ['Gender', 'Age', 'Geography', 'OBS']"
   ]
  },
  {
   "cell_type": "code",
   "execution_count": 16,
   "metadata": {},
   "outputs": [
    {
     "output_type": "execute_result",
     "data": {
      "text/plain": [
       "        Gender       Age  Geography     OBS\n",
       "0          All  All Ages  E06000047  523662\n",
       "1          All  All Ages  E01020634    1632\n",
       "2          All  All Ages  E01020635    1329\n",
       "3          All  All Ages  E01020636    1725\n",
       "4          All  All Ages  E01020654    1826\n",
       "...        ...       ...        ...     ...\n",
       "9687871  Males       90+  W01001636       1\n",
       "9687872  Males       90+  W01001657       8\n",
       "9687873  Males       90+  W01001658       8\n",
       "9687874  Males       90+  W01001912       3\n",
       "9687875  Males       90+  W01001913       1\n",
       "\n",
       "[9687876 rows x 4 columns]"
      ],
      "text/html": "<div>\n<style scoped>\n    .dataframe tbody tr th:only-of-type {\n        vertical-align: middle;\n    }\n\n    .dataframe tbody tr th {\n        vertical-align: top;\n    }\n\n    .dataframe thead th {\n        text-align: right;\n    }\n</style>\n<table border=\"1\" class=\"dataframe\">\n  <thead>\n    <tr style=\"text-align: right;\">\n      <th></th>\n      <th>Gender</th>\n      <th>Age</th>\n      <th>Geography</th>\n      <th>OBS</th>\n    </tr>\n  </thead>\n  <tbody>\n    <tr>\n      <th>0</th>\n      <td>All</td>\n      <td>All Ages</td>\n      <td>E06000047</td>\n      <td>523662</td>\n    </tr>\n    <tr>\n      <th>1</th>\n      <td>All</td>\n      <td>All Ages</td>\n      <td>E01020634</td>\n      <td>1632</td>\n    </tr>\n    <tr>\n      <th>2</th>\n      <td>All</td>\n      <td>All Ages</td>\n      <td>E01020635</td>\n      <td>1329</td>\n    </tr>\n    <tr>\n      <th>3</th>\n      <td>All</td>\n      <td>All Ages</td>\n      <td>E01020636</td>\n      <td>1725</td>\n    </tr>\n    <tr>\n      <th>4</th>\n      <td>All</td>\n      <td>All Ages</td>\n      <td>E01020654</td>\n      <td>1826</td>\n    </tr>\n    <tr>\n      <th>...</th>\n      <td>...</td>\n      <td>...</td>\n      <td>...</td>\n      <td>...</td>\n    </tr>\n    <tr>\n      <th>9687871</th>\n      <td>Males</td>\n      <td>90+</td>\n      <td>W01001636</td>\n      <td>1</td>\n    </tr>\n    <tr>\n      <th>9687872</th>\n      <td>Males</td>\n      <td>90+</td>\n      <td>W01001657</td>\n      <td>8</td>\n    </tr>\n    <tr>\n      <th>9687873</th>\n      <td>Males</td>\n      <td>90+</td>\n      <td>W01001658</td>\n      <td>8</td>\n    </tr>\n    <tr>\n      <th>9687874</th>\n      <td>Males</td>\n      <td>90+</td>\n      <td>W01001912</td>\n      <td>3</td>\n    </tr>\n    <tr>\n      <th>9687875</th>\n      <td>Males</td>\n      <td>90+</td>\n      <td>W01001913</td>\n      <td>1</td>\n    </tr>\n  </tbody>\n</table>\n<p>9687876 rows × 4 columns</p>\n</div>"
     },
     "metadata": {},
     "execution_count": 16
    }
   ],
   "source": [
    "output"
   ]
  }
 ],
 "metadata": {
  "kernelspec": {
   "display_name": "Python 3",
   "language": "python",
   "name": "python3"
  },
  "language_info": {
   "codemirror_mode": {
    "name": "ipython",
    "version": 3
   },
   "file_extension": ".py",
   "mimetype": "text/x-python",
   "name": "python",
   "nbconvert_exporter": "python",
   "pygments_lexer": "ipython3",
   "version": "3.8.2-final"
  }
 },
 "nbformat": 4,
 "nbformat_minor": 4
}