{
 "cells": [
  {
   "cell_type": "markdown",
   "metadata": {},
   "source": [
    "# Population Estimates\n",
    "\n",
    "-----\n",
    "\n",
    "### Requirements\n",
    "\n",
    "Table called 'data'\n",
    "\n",
    "#### Observations & Dimensions\n",
    "\n",
    "The `observations` should be apparent.\n",
    "\n",
    "The required dimensions are:\n",
    "\n",
    "* **Geography** - get this from the top row \"title\", cut off the non place names.\n",
    "* **Time** - use dates from left hand column\n",
    "* **CDID** - from across the top\n",
    "\n",
    "-----\n",
    "Notes:\n",
    "\n",
    "* This should be pretty straight forward in data baker, but consider doing it in pure pandas after you're done, we'll need\n",
    "to do that from time to time.\n",
    "\n",
    "To do it with pandas, replace the load cell with\n",
    "```\n",
    "tidy_sheet = pd.read_excel('./sources/pop.xlsx', sheetname='Sheet1')\n",
    "```\n"
   ]
  },
  {
   "cell_type": "code",
   "execution_count": 1,
   "metadata": {},
   "outputs": [
    {
     "output_type": "stream",
     "name": "stdout",
     "text": [
      "/workspace/mock-transformations\n"
     ]
    }
   ],
   "source": [
    "%cd mock-transformations/"
   ]
  },
  {
   "cell_type": "code",
   "execution_count": 2,
   "metadata": {},
   "outputs": [
    {
     "output_type": "stream",
     "name": "stdout",
     "text": [
      "Loading ./sources/pop.xls which has size 12288 bytes\nTable names: ['data']\n"
     ]
    }
   ],
   "source": [
    "from databaker.framework import *\n",
    "\n",
    "# the Seasonally Adjusted Tabs\n",
    "tidy_sheet = loadxlstabs(\"./sources/pop.xls\")"
   ]
  },
  {
   "cell_type": "code",
   "execution_count": 3,
   "metadata": {},
   "outputs": [],
   "source": [
    "# Geography range is B1:H1\n",
    "geography = tidy_sheet[0].excel_ref(\"B1\").expand(RIGHT).is_not_blank()\n",
    "\n",
    "# Clean up the name by replacing stuff"
   ]
  },
  {
   "cell_type": "code",
   "execution_count": 4,
   "metadata": {},
   "outputs": [],
   "source": [
    "# Time range is A8:A?\n",
    "time = tidy_sheet[0].excel_ref(\"A8\").expand(DOWN).is_not_blank()"
   ]
  },
  {
   "cell_type": "code",
   "execution_count": 5,
   "metadata": {},
   "outputs": [],
   "source": [
    "# CDID range is B2:H2\n",
    "cdid = tidy_sheet[0].excel_ref(\"B2\").expand(RIGHT).is_not_blank()"
   ]
  },
  {
   "cell_type": "code",
   "execution_count": 6,
   "metadata": {},
   "outputs": [],
   "source": [
    "# Observations range are B8:H?\n",
    "observations = tidy_sheet[0].excel_ref(\"B8\").expand(DOWN).expand(RIGHT).is_not_blank()"
   ]
  },
  {
   "cell_type": "code",
   "execution_count": 7,
   "metadata": {},
   "outputs": [],
   "source": [
    "# Dimension assignment\n",
    "dimensions = [HDim(geography, \"Geography\", DIRECTLY, ABOVE),\n",
    "              HDim(time, \"Year\", DIRECTLY, LEFT),\n",
    "              HDim(cdid, \"CDID\", DIRECTLY, ABOVE)]"
   ]
  },
  {
   "cell_type": "code",
   "execution_count": 8,
   "metadata": {},
   "outputs": [],
   "source": [
    "# Conversion segment\n",
    "cs = ConversionSegment(tidy_sheet[0], dimensions, observations)"
   ]
  },
  {
   "cell_type": "code",
   "execution_count": 9,
   "metadata": {},
   "outputs": [
    {
     "output_type": "stream",
     "name": "stdout",
     "text": [
      "\n"
     ]
    },
    {
     "output_type": "execute_result",
     "data": {
      "text/plain": [
       "          OBS   CDID                                       Geography  Year\n",
       "0   5235600.0  SCPOP           Scotland population mid-year estimate  1971\n",
       "1  54387600.0  GBPOP      Great Britain population mid-year estimate  1971\n",
       "2  46411700.0  ENPOP            England population mid-year estimate  1971\n",
       "3  55928000.0  UKPOP     United Kingdom population mid-year estimate  1971\n",
       "4  49152000.0  EWPOP  England and Wales population mid-year estimate  1971"
      ],
      "text/html": "<div>\n<style scoped>\n    .dataframe tbody tr th:only-of-type {\n        vertical-align: middle;\n    }\n\n    .dataframe tbody tr th {\n        vertical-align: top;\n    }\n\n    .dataframe thead th {\n        text-align: right;\n    }\n</style>\n<table border=\"1\" class=\"dataframe\">\n  <thead>\n    <tr style=\"text-align: right;\">\n      <th></th>\n      <th>OBS</th>\n      <th>CDID</th>\n      <th>Geography</th>\n      <th>Year</th>\n    </tr>\n  </thead>\n  <tbody>\n    <tr>\n      <th>0</th>\n      <td>5235600.0</td>\n      <td>SCPOP</td>\n      <td>Scotland population mid-year estimate</td>\n      <td>1971</td>\n    </tr>\n    <tr>\n      <th>1</th>\n      <td>54387600.0</td>\n      <td>GBPOP</td>\n      <td>Great Britain population mid-year estimate</td>\n      <td>1971</td>\n    </tr>\n    <tr>\n      <th>2</th>\n      <td>46411700.0</td>\n      <td>ENPOP</td>\n      <td>England population mid-year estimate</td>\n      <td>1971</td>\n    </tr>\n    <tr>\n      <th>3</th>\n      <td>55928000.0</td>\n      <td>UKPOP</td>\n      <td>United Kingdom population mid-year estimate</td>\n      <td>1971</td>\n    </tr>\n    <tr>\n      <th>4</th>\n      <td>49152000.0</td>\n      <td>EWPOP</td>\n      <td>England and Wales population mid-year estimate</td>\n      <td>1971</td>\n    </tr>\n  </tbody>\n</table>\n</div>"
     },
     "metadata": {},
     "execution_count": 9
    }
   ],
   "source": [
    "# Convert to dataframe\n",
    "df = cs.topandas()\n",
    "df.head()"
   ]
  },
  {
   "cell_type": "code",
   "execution_count": 10,
   "metadata": {},
   "outputs": [],
   "source": [
    "# Trim the geography name\n",
    "df[\"Geography\"] = df[\"Geography\"].str.replace(\" population mid-year estimate\", \"\")"
   ]
  },
  {
   "cell_type": "code",
   "execution_count": 11,
   "metadata": {},
   "outputs": [],
   "source": [
    "# Observations are integer\n",
    "df[\"OBS\"] = df[\"OBS\"].astype(int)"
   ]
  },
  {
   "cell_type": "code",
   "execution_count": 12,
   "metadata": {},
   "outputs": [
    {
     "output_type": "execute_result",
     "data": {
      "text/plain": [
       "          OBS   CDID          Geography  Year\n",
       "0     5235600  SCPOP           Scotland  1971\n",
       "1    54387600  GBPOP      Great Britain  1971\n",
       "2    46411700  ENPOP            England  1971\n",
       "3    55928000  UKPOP     United Kingdom  1971\n",
       "4    49152000  EWPOP  England and Wales  1971\n",
       "..        ...    ...                ...   ...\n",
       "331  55977200  ENPOP            England  2018\n",
       "332  66435600  UKPOP     United Kingdom  2018\n",
       "333  59115800  EWPOP  England and Wales  2018\n",
       "334   1881600  NIPOP   Northern Ireland  2018\n",
       "335   3138600  WAPOP              Wales  2018\n",
       "\n",
       "[336 rows x 4 columns]"
      ],
      "text/html": "<div>\n<style scoped>\n    .dataframe tbody tr th:only-of-type {\n        vertical-align: middle;\n    }\n\n    .dataframe tbody tr th {\n        vertical-align: top;\n    }\n\n    .dataframe thead th {\n        text-align: right;\n    }\n</style>\n<table border=\"1\" class=\"dataframe\">\n  <thead>\n    <tr style=\"text-align: right;\">\n      <th></th>\n      <th>OBS</th>\n      <th>CDID</th>\n      <th>Geography</th>\n      <th>Year</th>\n    </tr>\n  </thead>\n  <tbody>\n    <tr>\n      <th>0</th>\n      <td>5235600</td>\n      <td>SCPOP</td>\n      <td>Scotland</td>\n      <td>1971</td>\n    </tr>\n    <tr>\n      <th>1</th>\n      <td>54387600</td>\n      <td>GBPOP</td>\n      <td>Great Britain</td>\n      <td>1971</td>\n    </tr>\n    <tr>\n      <th>2</th>\n      <td>46411700</td>\n      <td>ENPOP</td>\n      <td>England</td>\n      <td>1971</td>\n    </tr>\n    <tr>\n      <th>3</th>\n      <td>55928000</td>\n      <td>UKPOP</td>\n      <td>United Kingdom</td>\n      <td>1971</td>\n    </tr>\n    <tr>\n      <th>4</th>\n      <td>49152000</td>\n      <td>EWPOP</td>\n      <td>England and Wales</td>\n      <td>1971</td>\n    </tr>\n    <tr>\n      <th>...</th>\n      <td>...</td>\n      <td>...</td>\n      <td>...</td>\n      <td>...</td>\n    </tr>\n    <tr>\n      <th>331</th>\n      <td>55977200</td>\n      <td>ENPOP</td>\n      <td>England</td>\n      <td>2018</td>\n    </tr>\n    <tr>\n      <th>332</th>\n      <td>66435600</td>\n      <td>UKPOP</td>\n      <td>United Kingdom</td>\n      <td>2018</td>\n    </tr>\n    <tr>\n      <th>333</th>\n      <td>59115800</td>\n      <td>EWPOP</td>\n      <td>England and Wales</td>\n      <td>2018</td>\n    </tr>\n    <tr>\n      <th>334</th>\n      <td>1881600</td>\n      <td>NIPOP</td>\n      <td>Northern Ireland</td>\n      <td>2018</td>\n    </tr>\n    <tr>\n      <th>335</th>\n      <td>3138600</td>\n      <td>WAPOP</td>\n      <td>Wales</td>\n      <td>2018</td>\n    </tr>\n  </tbody>\n</table>\n<p>336 rows × 4 columns</p>\n</div>"
     },
     "metadata": {},
     "execution_count": 12
    }
   ],
   "source": [
    "# Done\n",
    "df"
   ]
  },
  {
   "cell_type": "code",
   "execution_count": null,
   "metadata": {},
   "outputs": [],
   "source": []
  }
 ],
 "metadata": {
  "kernelspec": {
   "display_name": "Python 3",
   "language": "python",
   "name": "python3"
  },
  "language_info": {
   "codemirror_mode": {
    "name": "ipython",
    "version": 3
   },
   "file_extension": ".py",
   "mimetype": "text/x-python",
   "name": "python",
   "nbconvert_exporter": "python",
   "pygments_lexer": "ipython3",
   "version": "3.8.2-final"
  }
 },
 "nbformat": 4,
 "nbformat_minor": 4
}